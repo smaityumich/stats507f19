{
 "cells": [
  {
   "cell_type": "markdown",
   "metadata": {},
   "source": [
    "# Homework 10: Google TensorFlow\n",
    "\n",
    "\n",
    "## 1 Warmup: Constructing a 3-tensor "
   ]
  },
  {
   "cell_type": "code",
   "execution_count": 68,
   "metadata": {},
   "outputs": [],
   "source": [
    "import numpy as np\n",
    "import tensorflow as tf\n",
    "\n",
    "logo0 = [[1,0,0],[1,0,0],[1,0,0],[1,1,1]]\n",
    "logo1 = [[0,0,0],[0,0,0],[1,0,0],[0,0,0]]\n",
    "logo2 = [[0,0,0],[0,0,0],[1,1,0],[0,0,0]]\n",
    "\n",
    "nplogo = np.array([logo0,logo1,logo2,logo1,logo1])\n",
    "\n",
    "tflogo = tf.constant(nplogo, dtype = tf.float32)\n"
   ]
  },
  {
   "cell_type": "code",
   "execution_count": 69,
   "metadata": {},
   "outputs": [
    {
     "data": {
      "text/plain": [
       "1"
      ]
     },
     "execution_count": 69,
     "metadata": {},
     "output_type": "execute_result"
    }
   ],
   "source": [
    "nplogo[0,3,2]"
   ]
  },
  {
   "cell_type": "markdown",
   "metadata": {},
   "source": [
    "## Building and training simple models\n",
    "\n",
    "\n",
    "### 1. Logistic regression with a negative log-likelihood loss\n",
    "\n",
    "Let $z=W^T X+b.$ Then $y\\sim \\text{Bernoulli}(\\sigma(z)),$ where, $\\sigma(z) = \\frac{e^z}{1+e^z}.$ Then likelihood of $y$ is given by $$L(W,b|X,y) = \\left(\\frac{e^z}{1+e^z}\\right)^y\\left(\\frac{1}{1+e^z}\\right)^{1-y} = \\frac{e^{yz}}{1+e^z}. $$ Hence the negative log-likelihood would be $$-l(W,b|X,y) = -\\log L(W,b|X,y) = \\log \\left(1+e^z\\right) - yz $$\n",
    "If we have $n$ independent data points $\\{(X_i, y_i)\\}_{i=1}^n$ distributed as above, the negative log likelihood will be \n",
    "\n",
    "$$\n",
    "-l(W,b) = \\sum_{i=1}^n\\left[ \\log \\left( 1+ \\exp(W^TX_i + b)  \\right) - y_i(W^TX_i+b)\\right]\n",
    "$$"
   ]
  },
  {
   "cell_type": "code",
   "execution_count": 74,
   "metadata": {},
   "outputs": [],
   "source": [
    "y = tf.placeholder(tf.float32, shape = [None, 1])\n",
    "z = tf.reshape(y, shape=[-1,])\n",
    "X = tf.placeholder(tf.float32,shape = [None, 6])\n",
    "\n",
    "W = tf.Variable(np.zeros(6),dtype = tf.float32, shape = [6])\n",
    "b = tf.Variable(0,dtype = tf.float32)\n",
    "W_original = tf.constant([1,1,2,3,5,8], dtype=tf.float32)\n",
    "b_original = tf.constant(-1,dtype = tf.float32)\n",
    "W_squared_error = tf.reduce_sum((W_original-W)**2)\n",
    "b_sq_error = (b-b_original)**2\n",
    "\n",
    "linear = tf.tensordot(X,W, axes = [[1],[0]]) + b\n",
    "neg_loglikelihood = tf.log(1+tf.exp(linear)) - z*linear\n",
    "neg_log_loss = tf.reduce_sum(neg_loglikelihood)\n",
    "neg_log_loss_mean = tf.reduce_mean(neg_loglikelihood)\n",
    "predict = (tf.math.sign(linear)+1)/2\n",
    "accuracy = 1-tf.reduce_mean((z-predict)**2)\n"
   ]
  },
  {
   "cell_type": "markdown",
   "metadata": {},
   "source": [
    "### 2.2 Estimating parameters in logistic regression"
   ]
  },
  {
   "cell_type": "code",
   "execution_count": 75,
   "metadata": {},
   "outputs": [],
   "source": [
    "xtest = np.load(\"logistic_data/logistic_xtest.npy\")\n",
    "ytest = np.load(\"logistic_data/logistic_ytest.npy\")\n",
    "#ytest = np.reshape(ytest, (len(ytest),))\n",
    "xtrain = np.load(\"logistic_data/logistic_xtrain.npy\")\n",
    "ytrain = np.load(\"logistic_data/logistic_ytrain.npy\")\n",
    "#ytrain = np.reshape(ytrain, (len(ytrain),))"
   ]
  },
  {
   "cell_type": "code",
   "execution_count": 76,
   "metadata": {},
   "outputs": [],
   "source": [
    "sess = tf.Session()\n",
    "init = tf.global_variables_initializer()\n",
    "sess.run(init)\n",
    "\n",
    "\n",
    "rate = 0.005\n",
    "optimizer = tf.train.GradientDescentOptimizer(rate)\n",
    "train = optimizer.minimize(neg_log_loss)\n",
    "\n",
    "steps = 1000\n",
    "loss_train = np.zeros(steps)\n",
    "loss_test = np.zeros(steps)\n",
    "\n",
    "for i in range(steps):\n",
    "    sess.run(train, {X: xtrain, y: ytrain})\n",
    "    loss_train[i] = sess.run(accuracy, {X:xtrain,y:ytrain})\n",
    "    loss_test[i] = sess.run(accuracy, {X:xtest, y:ytest})\n",
    "    "
   ]
  },
  {
   "cell_type": "code",
   "execution_count": 77,
   "metadata": {},
   "outputs": [
    {
     "data": {
      "text/plain": [
       "<matplotlib.legend.Legend at 0x23a4793cf48>"
      ]
     },
     "execution_count": 77,
     "metadata": {},
     "output_type": "execute_result"
    },
    {
     "data": {
      "image/png": "[encoded data removed]",
      "text/plain": [
       "<Figure size 432x288 with 1 Axes>"
      ]
     },
     "metadata": {
      "needs_background": "light"
     },
     "output_type": "display_data"
    }
   ],
   "source": [
    "from matplotlib import pyplot as plt\n",
    "p_tr = plt.plot(loss_train)\n",
    "p_test = plt.plot(loss_test, 'r-')\n",
    "plt.legend((p_tr[0],p_test[0]),('Train','Test'))"
   ]
  },
  {
   "cell_type": "code",
   "execution_count": 78,
   "metadata": {},
   "outputs": [
    {
     "data": {
      "text/plain": [
       "{'W': array([0.9780812, 1.2326876, 1.4982151, 3.0153084, 4.6440253, 7.528404 ],\n",
       "       dtype=float32),\n",
       " 'Wsqerr': 0.6557669,\n",
       " 'b': -0.95491993,\n",
       " 'bsqerr': 0.0020322122,\n",
       " 'log_lik_test': 163.01419}"
      ]
     },
     "execution_count": 78,
     "metadata": {},
     "output_type": "execute_result"
    }
   ],
   "source": [
    "[W_est, b_est] = sess.run([W,b])\n",
    "\n",
    "W_original, b_original = [1,1,2,3,5,8], -1\n",
    "Wsqerr = np.sum((W_original-W_est)**2)\n",
    "bsqerr = (b_est-b_original)**2\n",
    "log_lik_test = sess.run(neg_log_loss, {X:xtest, y:ytest})\n",
    "\n",
    "results_logistic = {'W': W_est, 'Wsqerr': sess.run(W_squared_error), 'b': b_est, 'bsqerr': sess.run(b_sq_error), 'log_lik_test': log_lik_test}\n",
    "W_est, b_est\n",
    "\n",
    "sess.close()\n",
    "results_logistic"
   ]
  },
  {
   "cell_type": "markdown",
   "metadata": {},
   "source": [
    "### 1.5"
   ]
  },
  {
   "cell_type": "code",
   "execution_count": 79,
   "metadata": {},
   "outputs": [],
   "source": [
    "## Load data\n",
    "\n",
    "xtest = np.load(\"normal_data/normal_xtest.npy\")\n",
    "ytest = np.load(\"normal_data/normal_ytest.npy\")\n",
    "xtrain = np.load(\"normal_data/normal_xtrain.npy\")\n",
    "ytrain = np.load(\"normal_data/normal_ytrain.npy\")"
   ]
  },
  {
   "cell_type": "code",
   "execution_count": 80,
   "metadata": {},
   "outputs": [],
   "source": [
    "## Building model\n",
    "import math\n",
    "x = tf.placeholder(tf.float32, shape = [None,1])\n",
    "ytrue = tf.placeholder(tf.float32, shape = [None,3])\n",
    "\n",
    "pi = tf.constant(math.pi)\n",
    "\n",
    "mu = tf.Variable([0,0,0],dtype = tf.float32)\n",
    "sigsq = tf.Variable([1,1,1],dtype = tf.float32)\n",
    "pdf = tf.exp(- (x-mu)**2/(2*sigsq))/tf.sqrt(2*pi*sigsq)\n",
    "y = tf.nn.softmax(pdf)\n",
    "prediction = tf.argmax(y,1)\n",
    "\n",
    "cross_entropy = - tf.reduce_sum(tf.log(pdf)*ytrue)\n",
    "train_step = tf.train.AdagradOptimizer(0.5).minimize(cross_entropy)"
   ]
  },
  {
   "cell_type": "code",
   "execution_count": 32,
   "metadata": {},
   "outputs": [],
   "source": [
    "sess = tf.InteractiveSession()\n",
    "tf.global_variables_initializer().run()\n",
    "\n",
    "correct_prediction = tf.equal(tf.argmax(y, 1), tf.argmax(ytrue, 1)) # Test your understanding: why argmax?\n",
    "accuracy = tf.reduce_mean(tf.cast(correct_prediction, tf.float32))\n",
    "\n",
    "\n",
    "nsteps = 5000\n",
    "tr_acc = np.zeros(nsteps)\n",
    "test_acc = np.zeros(nsteps)\n",
    "for i in range(nsteps):\n",
    "    sess.run(train_step, feed_dict={x: xtrain, ytrue: ytrain})\n",
    "    tr_acc[i] = sess.run(accuracy, feed_dict={x: xtrain, ytrue: ytrain})\n",
    "    test_acc[i] = sess.run(accuracy, feed_dict={x: xtest, ytrue: ytest})"
   ]
  },
  {
   "cell_type": "code",
   "execution_count": 33,
   "metadata": {},
   "outputs": [
    {
     "data": {
      "text/plain": [
       "<matplotlib.legend.Legend at 0x23a440f4a08>"
      ]
     },
     "execution_count": 33,
     "metadata": {},
     "output_type": "execute_result"
    },
    {
     "data": {
      "image/png": "[encoded data removed]",
      "text/plain": [
       "<Figure size 432x288 with 1 Axes>"
      ]
     },
     "metadata": {
      "needs_background": "light"
     },
     "output_type": "display_data"
    }
   ],
   "source": [
    "import matplotlib.pyplot as plt\n",
    "p_tr = plt.plot(range(5000),tr_acc)\n",
    "p_test = plt.plot(range(5000),test_acc,'r')\n",
    "plt.legend((p_tr[0],p_test[0]),('Train','Test'))"
   ]
  },
  {
   "cell_type": "code",
   "execution_count": 12,
   "metadata": {},
   "outputs": [],
   "source": [
    "[mu_est, sigsq_est] = sess.run([mu,sigsq])\n",
    "mu_original, sigsq_original = [-1,0,3], [0.5, 1, 1.5]\n",
    "total_sqerr = np.sum((mu_est - mu_original)**2) + np.sum((sigsq_est-sigsq_original)**2)"
   ]
  },
  {
   "cell_type": "code",
   "execution_count": 13,
   "metadata": {},
   "outputs": [],
   "source": [
    "class_error = 1- sess.run(accuracy, feed_dict={x: xtest, ytrue: ytest})"
   ]
  },
  {
   "cell_type": "code",
   "execution_count": 14,
   "metadata": {},
   "outputs": [],
   "source": [
    "results_class = {'mu':mu_est, 'sigma2': sigsq_est, 'crossent_test' : sess.run(cross_entropy, feed_dict={x: xtest, ytrue: ytest}), 'class_error':class_error}"
   ]
  },
  {
   "cell_type": "code",
   "execution_count": 15,
   "metadata": {},
   "outputs": [
    {
     "data": {
      "text/plain": [
       "{'mu': array([-1.0076407,  0.0044913,  3.0048754], dtype=float32),\n",
       " 'sigma2': array([0.53334326, 1.0087473 , 1.5158874 ], dtype=float32),\n",
       " 'crossent_test': 686.34705,\n",
       " 'class_error': 0.2680000066757202}"
      ]
     },
     "execution_count": 15,
     "metadata": {},
     "output_type": "execute_result"
    }
   ],
   "source": [
    "results_class\n",
    "sess.close()"
   ]
  },
  {
   "cell_type": "code",
   "execution_count": 75,
   "metadata": {},
   "outputs": [],
   "source": [
    "## 3.2\n",
    "#tf.saved_model.simple_save(sess, export_dir = \"normal_trained/\", inputs = {'x':x}, outputs= {'prediction':prediction} )"
   ]
  },
  {
   "cell_type": "code",
   "execution_count": 63,
   "metadata": {},
   "outputs": [
    {
     "name": "stderr",
     "output_type": "stream",
     "text": [
      "c:\\users\\maity\\anaconda3\\envs\\tf\\lib\\site-packages\\sklearn\\linear_model\\logistic.py:432: FutureWarning: Default solver will be changed to 'lbfgs' in 0.22. Specify a solver to silence this warning.\n",
      "  FutureWarning)\n"
     ]
    }
   ],
   "source": [
    "from sklearn import linear_model as lm\n",
    "lf=lm.LogisticRegression(random_state=0).fit(xtrain,ytrain)"
   ]
  },
  {
   "cell_type": "code",
   "execution_count": 64,
   "metadata": {},
   "outputs": [],
   "source": [
    "ytrain_fit = lf.predict(xtrain)\n",
    "ytest_fit = lf.predict(xtest)"
   ]
  },
  {
   "cell_type": "code",
   "execution_count": 67,
   "metadata": {},
   "outputs": [
    {
     "data": {
      "text/plain": [
       "(0.847, 0.858)"
      ]
     },
     "execution_count": 67,
     "metadata": {},
     "output_type": "execute_result"
    }
   ],
   "source": [
    "train_err, test_err = np.mean(np.abs(ytrain-ytrain_fit)), np.mean(np.abs(ytest -ytest_fit))\n",
    "1- train_err, 1- test_err"
   ]
  },
  {
   "cell_type": "code",
   "execution_count": null,
   "metadata": {},
   "outputs": [],
   "source": []
  }
 ],
 "metadata": {
  "kernelspec": {
   "display_name": "Python 3",
   "language": "python",
   "name": "python3"
  },
  "language_info": {
   "codemirror_mode": {
    "name": "ipython",
    "version": 3
   },
   "file_extension": ".py",
   "mimetype": "text/x-python",
   "name": "python",
   "nbconvert_exporter": "python",
   "pygments_lexer": "ipython3",
   "version": "3.7.5"
  }
 },
 "nbformat": 4,
 "nbformat_minor": 2
}

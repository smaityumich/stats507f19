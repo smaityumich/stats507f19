{
 "cells": [
  {
   "cell_type": "markdown",
   "metadata": {},
   "source": [
    "# Homework 5\n",
    "## 1. Around the semicircular law\n",
    "### 1"
   ]
  },
  {
   "cell_type": "code",
   "execution_count": 57,
   "metadata": {},
   "outputs": [],
   "source": [
    "import numpy as np\n",
    "from scipy import stats\n",
    "np.random.seed(10)\n",
    "def wigner_density(x):\n",
    "    u = 4-x**2\n",
    "    if u > 0:\n",
    "        u = np.sqrt(u)\n",
    "    else:\n",
    "        u = 0\n",
    "    return u/(np.pi*2)\n",
    "wigner_density_vectorized = np.vectorize(wigner_density)"
   ]
  },
  {
   "cell_type": "markdown",
   "metadata": {},
   "source": [
    "### 2"
   ]
  },
  {
   "cell_type": "code",
   "execution_count": 58,
   "metadata": {},
   "outputs": [],
   "source": [
    "def generate_wigner(n):\n",
    "    if type(n) is not int:\n",
    "        raise TypeError(\"n os not an integer\")\n",
    "    elif n<= 0:\n",
    "        raise ValueError(\"n is not positive\")\n",
    "    else:\n",
    "        a = np.reshape(np.random.normal(0,1/np.sqrt(n),n**2),(n,n))\n",
    "        for i in range(1,n):\n",
    "            for j in range(i):\n",
    "                a[j,i] = a[i,j]\n",
    "        return a"
   ]
  },
  {
   "cell_type": "markdown",
   "metadata": {},
   "source": [
    "### 3"
   ]
  },
  {
   "cell_type": "code",
   "execution_count": 59,
   "metadata": {},
   "outputs": [],
   "source": [
    "def get_spectrum(a):\n",
    "    b, d = np.linalg.eigh(a)\n",
    "    return b"
   ]
  },
  {
   "cell_type": "markdown",
   "metadata": {},
   "source": [
    "### 4"
   ]
  },
  {
   "cell_type": "code",
   "execution_count": 60,
   "metadata": {},
   "outputs": [],
   "source": [
    "import matplotlib as mp\n",
    "import matplotlib.pyplot as plt\n",
    "x = np.arange(-2,2.01,0.01)\n",
    "d = wigner_density_vectorized(x)\n",
    "\n"
   ]
  },
  {
   "cell_type": "code",
   "execution_count": null,
   "metadata": {},
   "outputs": [],
   "source": [
    "fig, axs = plt.subplots(4, 1, figsize=(10,20 ), sharey=True)\n",
    "nlist = [100,200,500,1000]\n",
    "for i in range(4):\n",
    "    n = nlist[i]\n",
    "    eigen = get_spectrum(generate_wigner(n))\n",
    "    nbin = np.int(np.sqrt(n))\n",
    "    axs[i].hist(eigen,bins = nbin ,density = 1)\n",
    "    axs[i].plot(x,d,\"r\")\n",
    "    axs[i].set_title(\"$n = %s$\" % str(n))\n",
    "    axs[i].set_ylabel(\"Density\")\n",
    "    axs[i].set_xlabel(\"Eigen Value\")\n",
    "fig.suptitle(\"Histograms\")  \n",
    "plt.subplots_adjust(hspace = 0.3)\n",
    "    \n"
   ]
  },
  {
   "cell_type": "markdown",
   "metadata": {},
   "source": [
    "Since, the empirical distribution of the eigen values of Wigner matrix converges weakly almost-surely to the semi-circular distribution, we calculate the approximate proportion (calculated using 500 iterations) of time we are rejecting the null hypothesis that empirical spectral distribution is Wigner distribtion in KS test. We look for the $n$ for which is proportion is less than 0.001 which happen to be 10. So, 45 is a reasonable choice. In KS test we are setting a very high level of significance (0.99) to have a high power in test. "
   ]
  },
  {
   "cell_type": "code",
   "execution_count": null,
   "metadata": {},
   "outputs": [],
   "source": [
    "from scipy import stats as st\n",
    "n = 0\n",
    "error = 1\n",
    "while error > 1e-2:\n",
    "    n += 2\n",
    "    decision = np.array([0]*500)\n",
    "    for i in range(500):\n",
    "        ev = get_spectrum(generate_wigner(n))\n",
    "        D, q = st.kstest(ev/2, \"semicircular\",alternative=\"two-sided\")\n",
    "        if q < 0.99:\n",
    "            decision[i] = 1\n",
    "    error = np.mean(decision)\n",
    "    print(\"Type 1 error for n = \",n,\"is \",error)"
   ]
  },
  {
   "cell_type": "markdown",
   "metadata": {},
   "source": [
    "## 2. Plotting a Mixture of Normals\n",
    "### 1"
   ]
  },
  {
   "cell_type": "code",
   "execution_count": null,
   "metadata": {},
   "outputs": [],
   "source": [
    "lev = np.load(\"labels.npy\")\n",
    "pt = np.loadtxt(\"points.dlm\",delimiter = \"\\t\")"
   ]
  },
  {
   "cell_type": "code",
   "execution_count": null,
   "metadata": {},
   "outputs": [],
   "source": [
    "col = ['r']*len(lev)\n",
    "for i in range(len(lev)):\n",
    "    if lev[i] == 0:\n",
    "        col[i] = \"b\""
   ]
  },
  {
   "cell_type": "markdown",
   "metadata": {},
   "source": [
    "### 2"
   ]
  },
  {
   "cell_type": "code",
   "execution_count": null,
   "metadata": {},
   "outputs": [],
   "source": [
    "plt.scatter(pt[:,0],pt[:,1],c = col)\n",
    "plt.xlabel(\"$x$\")\n",
    "plt.ylabel(\"$y$\")\n",
    "plt.xlim((0,1))\n",
    "plt.ylim((0,1))"
   ]
  },
  {
   "cell_type": "markdown",
   "metadata": {},
   "source": [
    "### 3 and 4"
   ]
  },
  {
   "cell_type": "code",
   "execution_count": null,
   "metadata": {},
   "outputs": [],
   "source": [
    "from scipy import stats as st\n",
    "mu0 = np.array([0.2,0.7])\n",
    "mu1 = np.array([0.65,0.3])\n",
    "sigma0 = np.array([[0.015,-0.011],[-0.011,0.018]])\n",
    "sigma1 = np.array([[0.016,-0.011],[-0.011,0.016]])\n",
    "det0 = np.linalg.det(sigma0)\n",
    "det1 = np.linalg.det(sigma1)\n",
    "r = st.chi2(2)\n",
    "l = np.exp(-r.ppf((0.95,0.68))/2)/(2*np.pi)\n"
   ]
  },
  {
   "cell_type": "code",
   "execution_count": null,
   "metadata": {},
   "outputs": [],
   "source": [
    "level0 = l/np.sqrt(det0)\n",
    "level1 = l/np.sqrt(det1)\n",
    "mvn0 = st.multivariate_normal(mu0,sigma0)\n",
    "mvn1 = st.multivariate_normal(mu1,sigma1)\n",
    "\n",
    "x, y = np.mgrid[0:1:.01,0:1:.01]\n",
    "pos = np.empty(x.shape + (2,))\n",
    "pos[:,:,0] = x; pos[:,:,1] = y\n",
    "\n",
    "plt.scatter(pt[:,0],pt[:,1],c = col)\n",
    "plt.xlabel(\"$x$\")\n",
    "plt.ylabel(\"$y$\")\n",
    "plt.xlim((0,1))\n",
    "plt.ylim((0,1))\n",
    "\n",
    "plt.contour(x,y,mvn0.pdf(pos),levels = level0, colors = 'b')\n",
    "plt.contour(x,y,mvn1.pdf(pos),levels = level1, colors = 'r')\n",
    "ind = np.argmax(pt[:,0])\n",
    "plt.annotate('outlier', xy = pt[ind], xytext = (1.1,0.3), fontsize = 14, arrowprops = dict(facecolor = 'black', shrink = 0.02))"
   ]
  },
  {
   "cell_type": "markdown",
   "metadata": {},
   "source": [
    "There is an obvious outlier in the data annotted above. Other than that the data looks to come from multivariate normal."
   ]
  },
  {
   "cell_type": "markdown",
   "metadata": {},
   "source": [
    "## 3. Conway's Game of Life\n",
    "### 1"
   ]
  },
  {
   "cell_type": "code",
   "execution_count": null,
   "metadata": {},
   "outputs": [],
   "source": [
    "def is_valid_board(a):\n",
    "    dim = a.shape\n",
    "    if len(dim) != 2:\n",
    "        return False\n",
    "    else:\n",
    "        b = a == 0.0\n",
    "        c = a == 1.0\n",
    "        d = b + c\n",
    "        return d.all()"
   ]
  },
  {
   "cell_type": "markdown",
   "metadata": {},
   "source": [
    "### 2"
   ]
  },
  {
   "cell_type": "code",
   "execution_count": null,
   "metadata": {},
   "outputs": [],
   "source": [
    "def count_neighbour(a, ind = (0,0)):\n",
    "    dim = a.shape\n",
    "    live  = 0\n",
    "    if is_valid_board(a) == False:\n",
    "        raise ValueError(\"Not a valid board for game of life\")\n",
    "    else:\n",
    "        x = np.mgrid[-1:2:1,-1:2:1]\n",
    "        y = []\n",
    "        for i in range(3):\n",
    "            for j in range(3):\n",
    "                if (i,j) != (1,1):\n",
    "                    y.append(x[:,i,j])\n",
    "        y = np.array(y,dtype = \"int\") + ind\n",
    "        for i in y:\n",
    "            if i[0] < 0:\n",
    "                i[0] = dim[0] - 1\n",
    "            if i[1] < 0:\n",
    "                i[1] = dim[1] - 1\n",
    "            if i[0] > dim[0]-1:\n",
    "                i[0] = 0\n",
    "            if i[1] > dim[1]-1:\n",
    "                i[1] = 0\n",
    "            live += a[i[0],i[1]]\n",
    "        return live\n"
   ]
  },
  {
   "cell_type": "code",
   "execution_count": null,
   "metadata": {},
   "outputs": [],
   "source": [
    "def gol_step(a):\n",
    "    if is_valid_board(a) == False:\n",
    "        raise ValueError(\"Not a valid board for game of life\")\n",
    "    b = a.copy()\n",
    "    dim = a.shape\n",
    "    for i in range(dim[0]):\n",
    "        for j in range(dim[1]):\n",
    "            live = count_neighbour(a,ind = (i,j))\n",
    "            if a[i,j] == 0:\n",
    "                if live == 3:\n",
    "                    b[i,j] = 1\n",
    "            if a[i,j] == 1:\n",
    "                if (live < 2 or live > 3):\n",
    "                    b[i,j] = 0\n",
    "    return b\n",
    "                \n",
    "                \n"
   ]
  },
  {
   "cell_type": "markdown",
   "metadata": {},
   "source": [
    "### 3"
   ]
  },
  {
   "cell_type": "code",
   "execution_count": null,
   "metadata": {},
   "outputs": [],
   "source": [
    "def draw_gol_board(a):\n",
    "    if is_valid_board(a) == False:\n",
    "        raise ValueError(\"Not a valid board for game of life\")\n",
    "    img = plt.imshow(a, cmap = \"Greys\")\n",
    "    plt.xticks([],[])\n",
    "    plt.yticks([],[])\n",
    "    return img"
   ]
  },
  {
   "cell_type": "markdown",
   "metadata": {},
   "source": [
    "### 4"
   ]
  },
  {
   "cell_type": "code",
   "execution_count": null,
   "metadata": {},
   "outputs": [],
   "source": [
    "a = np.zeros(shape = (20,20))\n",
    "a[1,2] = 1\n",
    "a[2,3] = 1\n",
    "a[3,1:4:1] = 1\n",
    "\n",
    "draw_gol_board(a)"
   ]
  },
  {
   "cell_type": "markdown",
   "metadata": {},
   "source": [
    "### 5"
   ]
  },
  {
   "cell_type": "code",
   "execution_count": null,
   "metadata": {},
   "outputs": [],
   "source": [
    "a = np.zeros(shape = (20,20))\n",
    "a[1,2] = 1\n",
    "a[2,3] = 1\n",
    "a[3,1:4:1] = 1\n",
    "\n",
    "plt.subplot(151)\n",
    "draw_gol_board(a)\n",
    "plt.title(\"$t = 0$\")\n",
    "plt.subplot(152)\n",
    "a = gol_step(a)\n",
    "draw_gol_board(a)\n",
    "plt.title(\"$t = 1$\")\n",
    "plt.subplot(153)\n",
    "a = gol_step(a)\n",
    "draw_gol_board(a)\n",
    "plt.title(\"$t = 2$\")\n",
    "plt.subplot(154)\n",
    "a = gol_step(a)\n",
    "draw_gol_board(a)\n",
    "plt.title(\"$t = 3$\")\n",
    "plt.subplot(155)\n",
    "a = gol_step(a)\n",
    "draw_gol_board(a)\n",
    "plt.title(\"$t = 4$\")\n",
    "_ = plt.tight_layout()"
   ]
  },
  {
   "cell_type": "code",
   "execution_count": null,
   "metadata": {},
   "outputs": [],
   "source": []
  }
 ],
 "metadata": {
  "kernelspec": {
   "display_name": "Python 3",
   "language": "python",
   "name": "python3"
  },
  "language_info": {
   "codemirror_mode": {
    "name": "ipython",
    "version": 3
   },
   "file_extension": ".py",
   "mimetype": "text/x-python",
   "name": "python",
   "nbconvert_exporter": "python",
   "pygments_lexer": "ipython3",
   "version": "3.5.4"
  }
 },
 "nbformat": 4,
 "nbformat_minor": 2
}

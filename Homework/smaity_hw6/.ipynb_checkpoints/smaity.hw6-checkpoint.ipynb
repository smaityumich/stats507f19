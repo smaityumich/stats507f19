{
 "cells": [
  {
   "cell_type": "markdown",
   "metadata": {},
   "source": [
    "# Homework 6\n",
    "## 1. Warmup: constructing pandas objects\n",
    "### 1.1"
   ]
  },
  {
   "cell_type": "code",
   "execution_count": 110,
   "metadata": {},
   "outputs": [
    {
     "data": {
      "text/plain": [
       "a     2\n",
       "b     3\n",
       "c     5\n",
       "d     7\n",
       "e    11\n",
       "f    13\n",
       "g    17\n",
       "h    19\n",
       "i    23\n",
       "j    29\n",
       "dtype: int64"
      ]
     },
     "execution_count": 110,
     "metadata": {},
     "output_type": "execute_result"
    }
   ],
   "source": [
    "import pandas as pd\n",
    "import numpy as np\n",
    "primes = [2,3,5,7,11,13,17,19,23,29]\n",
    "idx = \"a b c d e f g h i j\".split()\n",
    "alphaprimes = pd.Series(primes, index=idx)\n",
    "alphaprimes"
   ]
  },
  {
   "cell_type": "markdown",
   "metadata": {},
   "source": [
    "### 1.2"
   ]
  },
  {
   "cell_type": "code",
   "execution_count": 111,
   "metadata": {},
   "outputs": [
    {
     "data": {
      "text/html": [
       "<div>\n",
       "<style scoped>\n",
       "    .dataframe tbody tr th:only-of-type {\n",
       "        vertical-align: middle;\n",
       "    }\n",
       "\n",
       "    .dataframe tbody tr th {\n",
       "        vertical-align: top;\n",
       "    }\n",
       "\n",
       "    .dataframe thead th {\n",
       "        text-align: right;\n",
       "    }\n",
       "</style>\n",
       "<table border=\"1\" class=\"dataframe\">\n",
       "  <thead>\n",
       "    <tr style=\"text-align: right;\">\n",
       "      <th></th>\n",
       "      <th></th>\n",
       "      <th></th>\n",
       "      <th>score1</th>\n",
       "      <th>score2</th>\n",
       "    </tr>\n",
       "    <tr>\n",
       "      <th>animal</th>\n",
       "      <th>parent1</th>\n",
       "      <th>parent2</th>\n",
       "      <th></th>\n",
       "      <th></th>\n",
       "    </tr>\n",
       "  </thead>\n",
       "  <tbody>\n",
       "    <tr>\n",
       "      <th rowspan=\"4\" valign=\"top\">goat</th>\n",
       "      <th rowspan=\"2\" valign=\"top\">A</th>\n",
       "      <th>A</th>\n",
       "      <td>1</td>\n",
       "      <td>2</td>\n",
       "    </tr>\n",
       "    <tr>\n",
       "      <th>a</th>\n",
       "      <td>2</td>\n",
       "      <td>4</td>\n",
       "    </tr>\n",
       "    <tr>\n",
       "      <th rowspan=\"2\" valign=\"top\">a</th>\n",
       "      <th>A</th>\n",
       "      <td>3</td>\n",
       "      <td>4</td>\n",
       "    </tr>\n",
       "    <tr>\n",
       "      <th>a</th>\n",
       "      <td>4</td>\n",
       "      <td>6</td>\n",
       "    </tr>\n",
       "    <tr>\n",
       "      <th rowspan=\"4\" valign=\"top\">bird</th>\n",
       "      <th rowspan=\"2\" valign=\"top\">A</th>\n",
       "      <th>A</th>\n",
       "      <td>5</td>\n",
       "      <td>6</td>\n",
       "    </tr>\n",
       "    <tr>\n",
       "      <th>a</th>\n",
       "      <td>6</td>\n",
       "      <td>8</td>\n",
       "    </tr>\n",
       "    <tr>\n",
       "      <th rowspan=\"2\" valign=\"top\">a</th>\n",
       "      <th>A</th>\n",
       "      <td>7</td>\n",
       "      <td>8</td>\n",
       "    </tr>\n",
       "    <tr>\n",
       "      <th>a</th>\n",
       "      <td>8</td>\n",
       "      <td>10</td>\n",
       "    </tr>\n",
       "    <tr>\n",
       "      <th rowspan=\"4\" valign=\"top\">llama</th>\n",
       "      <th rowspan=\"2\" valign=\"top\">A</th>\n",
       "      <th>A</th>\n",
       "      <td>9</td>\n",
       "      <td>10</td>\n",
       "    </tr>\n",
       "    <tr>\n",
       "      <th>a</th>\n",
       "      <td>10</td>\n",
       "      <td>12</td>\n",
       "    </tr>\n",
       "    <tr>\n",
       "      <th rowspan=\"2\" valign=\"top\">a</th>\n",
       "      <th>A</th>\n",
       "      <td>11</td>\n",
       "      <td>12</td>\n",
       "    </tr>\n",
       "    <tr>\n",
       "      <th>a</th>\n",
       "      <td>12</td>\n",
       "      <td>14</td>\n",
       "    </tr>\n",
       "  </tbody>\n",
       "</table>\n",
       "</div>"
      ],
      "text/plain": [
       "                        score1  score2\n",
       "animal parent1 parent2                \n",
       "goat   A       A             1       2\n",
       "               a             2       4\n",
       "       a       A             3       4\n",
       "               a             4       6\n",
       "bird   A       A             5       6\n",
       "               a             6       8\n",
       "       a       A             7       8\n",
       "               a             8      10\n",
       "llama  A       A             9      10\n",
       "               a            10      12\n",
       "       a       A            11      12\n",
       "               a            12      14"
      ]
     },
     "execution_count": 111,
     "metadata": {},
     "output_type": "execute_result"
    }
   ],
   "source": [
    "animal = ['goat']*4+['bird']*4 + ['llama']*4\n",
    "parent1 = (['A']*2+['a']*2)*3\n",
    "parent2 = ['A','a']*6\n",
    "tuples = list(zip(*[animal,parent1,parent2]))\n",
    "index = pd.MultiIndex.from_tuples(tuples,names = ['animal','parent1','parent2'])\n",
    "\n",
    "score1 = list(range(1,13))\n",
    "score2 = [2,4,4,6,6,8,8,10,10,12,12,14]\n",
    "arr = np.transpose(np.array([score1,score2]))\n",
    "\n",
    "animals = pd.DataFrame(arr,index = index, columns=['score1','score2'])\n",
    "animals"
   ]
  },
  {
   "cell_type": "markdown",
   "metadata": {},
   "source": [
    "## 2. Working with pandas Dataframes\n",
    "### 2.1"
   ]
  },
  {
   "cell_type": "code",
   "execution_count": 112,
   "metadata": {},
   "outputs": [
    {
     "name": "stdout",
     "output_type": "stream",
     "text": [
      "<class 'pandas.core.frame.DataFrame'>\n",
      "RangeIndex: 150 entries, 0 to 149\n",
      "Data columns (total 5 columns):\n",
      "Sepal.Length    150 non-null float64\n",
      "Sepal.Width     150 non-null float64\n",
      "Petal.Length    150 non-null float64\n",
      "Petal.Width     150 non-null float64\n",
      "Species         150 non-null object\n",
      "dtypes: float64(4), object(1)\n",
      "memory usage: 5.9+ KB\n",
      "None\n"
     ]
    },
    {
     "data": {
      "text/plain": [
       "array(['setosa', 'versicolor', 'virginica'], dtype=object)"
      ]
     },
     "execution_count": 112,
     "metadata": {},
     "output_type": "execute_result"
    }
   ],
   "source": [
    "iris = pd.read_csv(\"iris.csv\")\n",
    "print(iris.info())\n",
    "iris['Species'].unique()"
   ]
  },
  {
   "cell_type": "markdown",
   "metadata": {},
   "source": [
    "There are 150 data points. There are 5 columns. The column names and corresponding data-types are: (Sepal.Length, float64), (Sepal.Width, float64), (Petal.Length, float64), (Petal.Width, float64) and (Species, object). There are 3 types of species of flower: setosa, versicolor, and virginica."
   ]
  },
  {
   "cell_type": "markdown",
   "metadata": {},
   "source": [
    "### 2.2"
   ]
  },
  {
   "cell_type": "code",
   "execution_count": 113,
   "metadata": {},
   "outputs": [
    {
     "name": "stdout",
     "output_type": "stream",
     "text": [
      "Sepal.Length       4.9\n",
      "Sepal.Width        3.1\n",
      "Petal.Length       1.5\n",
      "Petal.Width        0.1\n",
      "Species         setosa\n",
      "Name: 34, dtype: object\n",
      "\n",
      "\n",
      "\n",
      "Sepal.Length       4.9\n",
      "Sepal.Width        3.1\n",
      "Petal.Length       1.5\n",
      "Petal.Width        0.1\n",
      "Species         setosa\n",
      "Name: 37, dtype: object\n",
      "\n",
      "\n",
      "\n",
      "Sepal.Length       4.9\n",
      "Sepal.Width        3.1\n",
      "Petal.Length       1.5\n",
      "Petal.Width        0.2\n",
      "Species         setosa\n",
      "Name: 34, dtype: object\n",
      "\n",
      "\n",
      "\n",
      "Sepal.Length       4.9\n",
      "Sepal.Width        3.6\n",
      "Petal.Length       1.4\n",
      "Petal.Width        0.1\n",
      "Species         setosa\n",
      "Name: 37, dtype: object\n"
     ]
    }
   ],
   "source": [
    "print(iris.iloc[34])\n",
    "print(\"\\n\\n\")\n",
    "print(iris.iloc[37])\n",
    "\n",
    "iris.iloc[34,3] = 0.2\n",
    "iris.iloc[37,1] = 3.6\n",
    "iris.iloc[37,2] = 1.4\n",
    "\n",
    "\n",
    "print(\"\\n\\n\")\n",
    "print(iris.iloc[34])\n",
    "print(\"\\n\\n\")\n",
    "print(iris.iloc[37])"
   ]
  },
  {
   "cell_type": "markdown",
   "metadata": {},
   "source": [
    "### 2.3"
   ]
  },
  {
   "cell_type": "code",
   "execution_count": 114,
   "metadata": {},
   "outputs": [],
   "source": [
    "iris['Petal.Ratio'] = iris['Petal.Length']/iris['Petal.Width']\n",
    "iris['Sepal.Ratio'] = iris['Sepal.Length']/iris['Sepal.Width']"
   ]
  },
  {
   "cell_type": "markdown",
   "metadata": {},
   "source": [
    "### 2.4"
   ]
  },
  {
   "cell_type": "code",
   "execution_count": 115,
   "metadata": {},
   "outputs": [],
   "source": [
    "iris.to_csv('iris_corrected.csv')"
   ]
  },
  {
   "cell_type": "markdown",
   "metadata": {},
   "source": [
    "### 2.5"
   ]
  },
  {
   "cell_type": "code",
   "execution_count": 116,
   "metadata": {},
   "outputs": [
    {
     "data": {
      "text/html": [
       "<div>\n",
       "<style scoped>\n",
       "    .dataframe tbody tr th:only-of-type {\n",
       "        vertical-align: middle;\n",
       "    }\n",
       "\n",
       "    .dataframe tbody tr th {\n",
       "        vertical-align: top;\n",
       "    }\n",
       "\n",
       "    .dataframe thead tr th {\n",
       "        text-align: left;\n",
       "    }\n",
       "\n",
       "    .dataframe thead tr:last-of-type th {\n",
       "        text-align: right;\n",
       "    }\n",
       "</style>\n",
       "<table border=\"1\" class=\"dataframe\">\n",
       "  <thead>\n",
       "    <tr>\n",
       "      <th></th>\n",
       "      <th colspan=\"5\" halign=\"left\">Petal.Ratio</th>\n",
       "      <th colspan=\"5\" halign=\"left\">Sepal.Ratio</th>\n",
       "    </tr>\n",
       "    <tr>\n",
       "      <th></th>\n",
       "      <th>mean</th>\n",
       "      <th>median</th>\n",
       "      <th>min</th>\n",
       "      <th>max</th>\n",
       "      <th>std</th>\n",
       "      <th>mean</th>\n",
       "      <th>median</th>\n",
       "      <th>min</th>\n",
       "      <th>max</th>\n",
       "      <th>std</th>\n",
       "    </tr>\n",
       "    <tr>\n",
       "      <th>Species</th>\n",
       "      <th></th>\n",
       "      <th></th>\n",
       "      <th></th>\n",
       "      <th></th>\n",
       "      <th></th>\n",
       "      <th></th>\n",
       "      <th></th>\n",
       "      <th></th>\n",
       "      <th></th>\n",
       "      <th></th>\n",
       "    </tr>\n",
       "  </thead>\n",
       "  <tbody>\n",
       "    <tr>\n",
       "      <th>setosa</th>\n",
       "      <td>6.908000</td>\n",
       "      <td>7.000000</td>\n",
       "      <td>2.666667</td>\n",
       "      <td>15.0</td>\n",
       "      <td>2.854545</td>\n",
       "      <td>1.470188</td>\n",
       "      <td>1.463063</td>\n",
       "      <td>1.268293</td>\n",
       "      <td>1.956522</td>\n",
       "      <td>0.118750</td>\n",
       "    </tr>\n",
       "    <tr>\n",
       "      <th>versicolor</th>\n",
       "      <td>3.242837</td>\n",
       "      <td>3.240385</td>\n",
       "      <td>2.666667</td>\n",
       "      <td>4.1</td>\n",
       "      <td>0.312456</td>\n",
       "      <td>2.160402</td>\n",
       "      <td>2.161290</td>\n",
       "      <td>1.764706</td>\n",
       "      <td>2.818182</td>\n",
       "      <td>0.228658</td>\n",
       "    </tr>\n",
       "    <tr>\n",
       "      <th>virginica</th>\n",
       "      <td>2.780662</td>\n",
       "      <td>2.666667</td>\n",
       "      <td>2.125000</td>\n",
       "      <td>4.0</td>\n",
       "      <td>0.407367</td>\n",
       "      <td>2.230453</td>\n",
       "      <td>2.169540</td>\n",
       "      <td>1.823529</td>\n",
       "      <td>2.961538</td>\n",
       "      <td>0.246992</td>\n",
       "    </tr>\n",
       "  </tbody>\n",
       "</table>\n",
       "</div>"
      ],
      "text/plain": [
       "           Petal.Ratio                                     Sepal.Ratio  \\\n",
       "                  mean    median       min   max       std        mean   \n",
       "Species                                                                  \n",
       "setosa        6.908000  7.000000  2.666667  15.0  2.854545    1.470188   \n",
       "versicolor    3.242837  3.240385  2.666667   4.1  0.312456    2.160402   \n",
       "virginica     2.780662  2.666667  2.125000   4.0  0.407367    2.230453   \n",
       "\n",
       "                                                    \n",
       "              median       min       max       std  \n",
       "Species                                             \n",
       "setosa      1.463063  1.268293  1.956522  0.118750  \n",
       "versicolor  2.161290  1.764706  2.818182  0.228658  \n",
       "virginica   2.169540  1.823529  2.961538  0.246992  "
      ]
     },
     "execution_count": 116,
     "metadata": {},
     "output_type": "execute_result"
    }
   ],
   "source": [
    "iris[['Species','Petal.Ratio','Sepal.Ratio']].groupby(\"Species\").agg(['mean','median','min','max','std'])"
   ]
  },
  {
   "cell_type": "markdown",
   "metadata": {},
   "source": [
    "## 3. Plotting Dataframes: Major League Baseball\n",
    "### 3.1"
   ]
  },
  {
   "cell_type": "code",
   "execution_count": 117,
   "metadata": {},
   "outputs": [
    {
     "name": "stdout",
     "output_type": "stream",
     "text": [
      "<class 'pandas.core.frame.DataFrame'>\n",
      "RangeIndex: 2430 entries, 0 to 2429\n",
      "Columns: 161 entries, 20180329 to Y\n",
      "dtypes: float64(2), int64(83), object(76)\n",
      "memory usage: 3.0+ MB\n"
     ]
    }
   ],
   "source": [
    "mlb_df = pd.read_csv('GL2018.TXT')\n",
    "mlb_df.info()"
   ]
  },
  {
   "cell_type": "code",
   "execution_count": 118,
   "metadata": {},
   "outputs": [
    {
     "data": {
      "text/html": [
       "<div>\n",
       "<style scoped>\n",
       "    .dataframe tbody tr th:only-of-type {\n",
       "        vertical-align: middle;\n",
       "    }\n",
       "\n",
       "    .dataframe tbody tr th {\n",
       "        vertical-align: top;\n",
       "    }\n",
       "\n",
       "    .dataframe thead th {\n",
       "        text-align: right;\n",
       "    }\n",
       "</style>\n",
       "<table border=\"1\" class=\"dataframe\">\n",
       "  <thead>\n",
       "    <tr style=\"text-align: right;\">\n",
       "      <th></th>\n",
       "      <th>20180329</th>\n",
       "      <th>0</th>\n",
       "      <th>Thu</th>\n",
       "      <th>COL</th>\n",
       "      <th>NL</th>\n",
       "      <th>1</th>\n",
       "      <th>ARI</th>\n",
       "      <th>NL.1</th>\n",
       "      <th>1.1</th>\n",
       "      <th>2</th>\n",
       "      <th>...</th>\n",
       "      <th>Nick Ahmed</th>\n",
       "      <th>6.3</th>\n",
       "      <th>dysoj001</th>\n",
       "      <th>Jarrod Dyson</th>\n",
       "      <th>9.2</th>\n",
       "      <th>corbp001.2</th>\n",
       "      <th>Patrick Corbin.2</th>\n",
       "      <th>1.6</th>\n",
       "      <th>Unnamed: 159</th>\n",
       "      <th>Y</th>\n",
       "    </tr>\n",
       "  </thead>\n",
       "  <tbody>\n",
       "    <tr>\n",
       "      <th>0</th>\n",
       "      <td>20180329</td>\n",
       "      <td>0</td>\n",
       "      <td>Thu</td>\n",
       "      <td>PHI</td>\n",
       "      <td>NL</td>\n",
       "      <td>1</td>\n",
       "      <td>ATL</td>\n",
       "      <td>NL</td>\n",
       "      <td>1</td>\n",
       "      <td>5</td>\n",
       "      <td>...</td>\n",
       "      <td>Dansby Swanson</td>\n",
       "      <td>6</td>\n",
       "      <td>flahr001</td>\n",
       "      <td>Ryan Flaherty</td>\n",
       "      <td>5</td>\n",
       "      <td>tehej001</td>\n",
       "      <td>Julio Teheran</td>\n",
       "      <td>1</td>\n",
       "      <td>NaN</td>\n",
       "      <td>Y</td>\n",
       "    </tr>\n",
       "    <tr>\n",
       "      <th>1</th>\n",
       "      <td>20180329</td>\n",
       "      <td>0</td>\n",
       "      <td>Thu</td>\n",
       "      <td>SFN</td>\n",
       "      <td>NL</td>\n",
       "      <td>1</td>\n",
       "      <td>LAN</td>\n",
       "      <td>NL</td>\n",
       "      <td>1</td>\n",
       "      <td>1</td>\n",
       "      <td>...</td>\n",
       "      <td>Yasmani Grandal</td>\n",
       "      <td>2</td>\n",
       "      <td>forsl001</td>\n",
       "      <td>Logan Forsythe</td>\n",
       "      <td>5</td>\n",
       "      <td>kersc001</td>\n",
       "      <td>Clayton Kershaw</td>\n",
       "      <td>1</td>\n",
       "      <td>NaN</td>\n",
       "      <td>Y</td>\n",
       "    </tr>\n",
       "    <tr>\n",
       "      <th>2</th>\n",
       "      <td>20180329</td>\n",
       "      <td>0</td>\n",
       "      <td>Thu</td>\n",
       "      <td>CHN</td>\n",
       "      <td>NL</td>\n",
       "      <td>1</td>\n",
       "      <td>MIA</td>\n",
       "      <td>NL</td>\n",
       "      <td>1</td>\n",
       "      <td>8</td>\n",
       "      <td>...</td>\n",
       "      <td>Miguel Rojas</td>\n",
       "      <td>6</td>\n",
       "      <td>wallc001</td>\n",
       "      <td>Chad Wallach</td>\n",
       "      <td>2</td>\n",
       "      <td>urenj001</td>\n",
       "      <td>Jose Urena</td>\n",
       "      <td>1</td>\n",
       "      <td>NaN</td>\n",
       "      <td>Y</td>\n",
       "    </tr>\n",
       "    <tr>\n",
       "      <th>3</th>\n",
       "      <td>20180329</td>\n",
       "      <td>0</td>\n",
       "      <td>Thu</td>\n",
       "      <td>SLN</td>\n",
       "      <td>NL</td>\n",
       "      <td>1</td>\n",
       "      <td>NYN</td>\n",
       "      <td>NL</td>\n",
       "      <td>1</td>\n",
       "      <td>4</td>\n",
       "      <td>...</td>\n",
       "      <td>Kevin Plawecki</td>\n",
       "      <td>2</td>\n",
       "      <td>syndn001</td>\n",
       "      <td>Noah Syndergaard</td>\n",
       "      <td>1</td>\n",
       "      <td>rosaa003</td>\n",
       "      <td>Amed Rosario</td>\n",
       "      <td>6</td>\n",
       "      <td>NaN</td>\n",
       "      <td>Y</td>\n",
       "    </tr>\n",
       "    <tr>\n",
       "      <th>4</th>\n",
       "      <td>20180329</td>\n",
       "      <td>0</td>\n",
       "      <td>Thu</td>\n",
       "      <td>MIL</td>\n",
       "      <td>NL</td>\n",
       "      <td>1</td>\n",
       "      <td>SDN</td>\n",
       "      <td>NL</td>\n",
       "      <td>1</td>\n",
       "      <td>2</td>\n",
       "      <td>...</td>\n",
       "      <td>Freddy Galvis</td>\n",
       "      <td>6</td>\n",
       "      <td>hedga001</td>\n",
       "      <td>Austin Hedges</td>\n",
       "      <td>2</td>\n",
       "      <td>richc002</td>\n",
       "      <td>Clayton Richard</td>\n",
       "      <td>1</td>\n",
       "      <td>NaN</td>\n",
       "      <td>Y</td>\n",
       "    </tr>\n",
       "  </tbody>\n",
       "</table>\n",
       "<p>5 rows × 161 columns</p>\n",
       "</div>"
      ],
      "text/plain": [
       "   20180329  0  Thu  COL  NL  1  ARI NL.1  1.1  2 ...       Nick Ahmed  6.3  \\\n",
       "0  20180329  0  Thu  PHI  NL  1  ATL   NL    1  5 ...   Dansby Swanson    6   \n",
       "1  20180329  0  Thu  SFN  NL  1  LAN   NL    1  1 ...  Yasmani Grandal    2   \n",
       "2  20180329  0  Thu  CHN  NL  1  MIA   NL    1  8 ...     Miguel Rojas    6   \n",
       "3  20180329  0  Thu  SLN  NL  1  NYN   NL    1  4 ...   Kevin Plawecki    2   \n",
       "4  20180329  0  Thu  MIL  NL  1  SDN   NL    1  2 ...    Freddy Galvis    6   \n",
       "\n",
       "   dysoj001      Jarrod Dyson  9.2  corbp001.2 Patrick Corbin.2  1.6  \\\n",
       "0  flahr001     Ryan Flaherty    5    tehej001    Julio Teheran    1   \n",
       "1  forsl001    Logan Forsythe    5    kersc001  Clayton Kershaw    1   \n",
       "2  wallc001      Chad Wallach    2    urenj001       Jose Urena    1   \n",
       "3  syndn001  Noah Syndergaard    1    rosaa003     Amed Rosario    6   \n",
       "4  hedga001     Austin Hedges    2    richc002  Clayton Richard    1   \n",
       "\n",
       "   Unnamed: 159  Y  \n",
       "0           NaN  Y  \n",
       "1           NaN  Y  \n",
       "2           NaN  Y  \n",
       "3           NaN  Y  \n",
       "4           NaN  Y  \n",
       "\n",
       "[5 rows x 161 columns]"
      ]
     },
     "execution_count": 118,
     "metadata": {},
     "output_type": "execute_result"
    }
   ],
   "source": [
    "mlb_df.head()"
   ]
  },
  {
   "cell_type": "code",
   "execution_count": 119,
   "metadata": {},
   "outputs": [
    {
     "name": "stdout",
     "output_type": "stream",
     "text": [
      "<class 'pandas.core.frame.DataFrame'>\n",
      "RangeIndex: 2430 entries, 0 to 2429\n",
      "Data columns (total 4 columns):\n",
      "NL      2430 non-null object\n",
      "NL.1    2430 non-null object\n",
      "2       2430 non-null int64\n",
      "8       2430 non-null int64\n",
      "dtypes: int64(2), object(2)\n",
      "memory usage: 76.0+ KB\n"
     ]
    }
   ],
   "source": [
    "mlb_df.iloc[:,[4,7,9,10]].info()"
   ]
  },
  {
   "cell_type": "code",
   "execution_count": 120,
   "metadata": {},
   "outputs": [],
   "source": [
    "mlb_df = mlb_df.rename(columns={'NL':'v_league','NL.1':'h_league','2':'v_score','8':'h_score'})"
   ]
  },
  {
   "cell_type": "markdown",
   "metadata": {},
   "source": [
    "### 3.2"
   ]
  },
  {
   "cell_type": "code",
   "execution_count": 121,
   "metadata": {},
   "outputs": [
    {
     "data": {
      "image/png": "[encoded data removed]",
      "text/plain": [
       "<Figure size 864x432 with 2 Axes>"
      ]
     },
     "metadata": {},
     "output_type": "display_data"
    }
   ],
   "source": [
    "from matplotlib import pyplot as plt\n",
    "mlb_df_NL = mlb_df.groupby(['v_league','h_league']).get_group(('NL','NL'))\n",
    "mlb_df_AL = mlb_df.groupby(['v_league','h_league']).get_group(('AL','AL'))\n",
    "\n",
    "\n",
    "fig, axs = plt.subplots(nrows=1, ncols=2, figsize=(12, 6), sharex=True)\n",
    "ax = axs[0]\n",
    "\n",
    "ax.scatter(mlb_df_NL['h_score'],mlb_df_NL['v_score'],s = 40, alpha = 0.1, c = 'b') \n",
    "ax.set_title('National League')\n",
    "ax.set_ylabel('v_score')\n",
    "ax.set_xlabel('h_score')\n",
    "\n",
    "ax = axs[1]\n",
    "ax.scatter(mlb_df_AL['h_score'],mlb_df_AL['v_score'],s = 40, alpha = 0.1, c = 'r')\n",
    "ax.set_title('Amature League')\n",
    "ax.set_ylabel('v_score')\n",
    "ax.set_xlabel('h_score')\n",
    "\n",
    "\n",
    "fig.suptitle('Scatter plot for scores of home vs away teams in national and amature leagues', fontsize = 'xx-large')\n",
    "fig.savefig('home_vs_away_scores.pdf')\n",
    "plt.show()\n"
   ]
  },
  {
   "cell_type": "markdown",
   "metadata": {},
   "source": [
    "### 3.3"
   ]
  },
  {
   "cell_type": "code",
   "execution_count": 122,
   "metadata": {},
   "outputs": [
    {
     "data": {
      "text/plain": [
       "Text(0,0.5,'frequency')"
      ]
     },
     "execution_count": 122,
     "metadata": {},
     "output_type": "execute_result"
    },
    {
     "data": {
      "image/png": "[encoded data removed]",
      "text/plain": [
       "<Figure size 432x288 with 1 Axes>"
      ]
     },
     "metadata": {},
     "output_type": "display_data"
    }
   ],
   "source": [
    "mlb_df['score_diff'] = mlb_df['h_score']-mlb_df['v_score']\n",
    "plt.hist(mlb_df['score_diff'])\n",
    "plt.title('Histogram for score differences')\n",
    "plt.xlabel(\"score_diff = h_score-v_score\")\n",
    "plt.ylabel('frequency')"
   ]
  },
  {
   "cell_type": "markdown",
   "metadata": {},
   "source": [
    "### 3.4"
   ]
  },
  {
   "cell_type": "code",
   "execution_count": 123,
   "metadata": {},
   "outputs": [
    {
     "name": "stdout",
     "output_type": "stream",
     "text": [
      "4.524279835390947\n",
      "4.37283950617284\n"
     ]
    }
   ],
   "source": [
    "lambda_home = np.mean(mlb_df['h_score'])\n",
    "lambda_visitor = np.mean(mlb_df['v_score'])\n",
    "print(lambda_home)\n",
    "print(lambda_visitor)"
   ]
  },
  {
   "cell_type": "markdown",
   "metadata": {},
   "source": [
    "### 3.5"
   ]
  },
  {
   "cell_type": "code",
   "execution_count": 124,
   "metadata": {},
   "outputs": [],
   "source": [
    "from scipy import stats as st\n",
    "rv = st.skellam(lambda_home,lambda_visitor)\n",
    "prob = rv.pmf(list(range(-30,0))+list(range(1,31)))\n",
    "prob = prob/np.sum(prob)\n",
    "score_diff = mlb_df['h_score']-mlb_df['v_score']\n",
    "n = len(score_diff)\n",
    "freq_series = score_diff.value_counts()\n",
    "a = freq_series.keys()\n",
    "freq_list = np.array([0]*60)\n",
    "for c in a:\n",
    "    if c<0:\n",
    "        freq_list[c+30] = freq_series[c]\n",
    "    else:\n",
    "        if c>0:\n",
    "            freq_list[c+29] = freq_series[c]\n",
    "exp_freq = n*np.array(prob)\n",
    "chi2stat, chi2pvalue = st.chisquare(freq_list, exp_freq)"
   ]
  },
  {
   "cell_type": "code",
   "execution_count": 125,
   "metadata": {},
   "outputs": [
    {
     "name": "stdout",
     "output_type": "stream",
     "text": [
      "1395521.94771\n",
      "0.0\n"
     ]
    }
   ],
   "source": [
    "print(chi2stat)\n",
    "print(chi2pvalue)"
   ]
  },
  {
   "cell_type": "markdown",
   "metadata": {},
   "source": [
    "From the calculated p-value, we say that there is enough evidence in the data to conclude that the model doesn't fit for this data, at a level of significance 0.05.\n",
    "\n",
    "From the histogram for the score differences we see that most of the score differences are in the range $[-12,12]$. We do the $\\chi^2$-test for the classes $K_H-K_V \\in \\{-12, -11, \\ldots, -1,1,\\ldots, 12, \\text{others}\\},$ where \"$K_H-K_V = \\text{others}$\" means $|K_H-K_V|>12.$ We calculate the corresponding expected frequencies and observed frequencies for each class and use that to do the $\\chi^2$-test. This should give us an improved scheme of testing"
   ]
  }
 ],
 "metadata": {
  "kernelspec": {
   "display_name": "Python 3",
   "language": "python",
   "name": "python3"
  },
  "language_info": {
   "codemirror_mode": {
    "name": "ipython",
    "version": 3
   },
   "file_extension": ".py",
   "mimetype": "text/x-python",
   "name": "python",
   "nbconvert_exporter": "python",
   "pygments_lexer": "ipython3",
   "version": "3.5.4"
  }
 },
 "nbformat": 4,
 "nbformat_minor": 2
}

{
 "cells": [
  {
   "cell_type": "markdown",
   "metadata": {},
   "source": [
    "### Lecture 14: SQL\n",
    "The Python sqlite3 package runs SQLite3, a light-weight SQL server."
   ]
  },
  {
   "cell_type": "code",
   "execution_count": 2,
   "metadata": {},
   "outputs": [],
   "source": [
    "import os\n",
    "if os.path.exists('example.db'):\n",
    "    os.remove('example.db') # Delete this file, if it exists, to prevent weird behavior below."
   ]
  },
  {
   "cell_type": "code",
   "execution_count": 4,
   "metadata": {
    "scrolled": true
   },
   "outputs": [
    {
     "name": "stdout",
     "output_type": "stream",
     "text": [
      "(101010, 'Claude Shannon', 'Electrical Engineering', 1916)\n",
      "(500100, 'Eugene Wigner', 'Physics', 1902)\n",
      "(314159, 'Albert Einstein', 'Physics', 1879)\n",
      "(214518, 'Ronald Fisher', 'Statistics', 1890)\n",
      "(662607, 'Max Planck', 'Physics', 1858)\n",
      "(271828, 'Leonard Euler', 'Mathematics', 1707)\n",
      "(999999, 'Jerzy Neyman', 'Statistics', 1894)\n",
      "(112358, 'Ky Fan', 'Mathematics', 1914)\n"
     ]
    }
   ],
   "source": [
    "import sqlite3\n",
    "conn = sqlite3.connect('example.db')\n",
    "c = conn.cursor() # create a cursor object.\n",
    "c.execute('''CREATE TABLE t_student (id, name, field, birth_year)''')\n",
    "students = [(101010, 'Claude Shannon', 'Electrical Engineering', 1916),\n",
    "            (500100, 'Eugene Wigner', 'Physics', 1902),\n",
    "            (314159, 'Albert Einstein', 'Physics', 1879),\n",
    "            (214518, 'Ronald Fisher', 'Statistics', 1890),\n",
    "            (662607, 'Max Planck', 'Physics', 1858),\n",
    "            (271828, 'Leonard Euler', 'Mathematics', 1707),\n",
    "            (999999, 'Jerzy Neyman', 'Statistics', 1894),\n",
    "            (112358, 'Ky Fan', 'Mathematics', 1914)]\n",
    "c.executemany('INSERT INTO t_student VALUES (?,?,?,?)', students)\n",
    "conn.commit() # Write the changes back to example.db\n",
    "for row in c.execute('''SELECT * from t_student'''):\n",
    "    print(row)"
   ]
  },
  {
   "cell_type": "code",
   "execution_count": 5,
   "metadata": {},
   "outputs": [
    {
     "data": {
      "text/plain": [
       "<sqlite3.Cursor at 0x104cb03b0>"
      ]
     },
     "execution_count": 5,
     "metadata": {},
     "output_type": "execute_result"
    }
   ],
   "source": [
    "c.execute('''SELECT * from t_student''')"
   ]
  },
  {
   "cell_type": "code",
   "execution_count": 6,
   "metadata": {},
   "outputs": [
    {
     "data": {
      "text/plain": [
       "[(101010, 'Claude Shannon', 'Electrical Engineering', 1916),\n",
       " (500100, 'Eugene Wigner', 'Physics', 1902),\n",
       " (314159, 'Albert Einstein', 'Physics', 1879),\n",
       " (214518, 'Ronald Fisher', 'Statistics', 1890),\n",
       " (662607, 'Max Planck', 'Physics', 1858),\n",
       " (271828, 'Leonard Euler', 'Mathematics', 1707),\n",
       " (999999, 'Jerzy Neyman', 'Statistics', 1894),\n",
       " (112358, 'Ky Fan', 'Mathematics', 1914)]"
      ]
     },
     "execution_count": 6,
     "metadata": {},
     "output_type": "execute_result"
    }
   ],
   "source": [
    "allrows = list(c.execute('''SELECT * from t_student'''))\n",
    "allrows"
   ]
  },
  {
   "cell_type": "code",
   "execution_count": 8,
   "metadata": {},
   "outputs": [],
   "source": [
    "import os\n",
    "if os.path.exists('example.db'):\n",
    "    os.remove('example.db') # Delete this file, if it exists, to prevent weird behavior below."
   ]
  },
  {
   "cell_type": "code",
   "execution_count": 10,
   "metadata": {},
   "outputs": [
    {
     "name": "stdout",
     "output_type": "stream",
     "text": [
      "('table', 't_student', 't_student', 2, 'CREATE TABLE t_student (id, name, field, birth_year)')\n",
      "('table', 't_thesis', 't_thesis', 3, 'CREATE TABLE t_thesis (thesis_id, phd_title phd_year)')\n"
     ]
    }
   ],
   "source": [
    "conn = sqlite3.connect('example.db')\n",
    "c = conn.cursor()\n",
    "c.execute('''CREATE TABLE t_student (id, name, field, birth_year)''')\n",
    "c.execute('''CREATE TABLE t_thesis (thesis_id, phd_title phd_year)''')\n",
    "for r in c.execute('''SELECT * FROM sqlite_master'''):\n",
    "    print(r)"
   ]
  },
  {
   "cell_type": "code",
   "execution_count": 13,
   "metadata": {},
   "outputs": [
    {
     "name": "stdout",
     "output_type": "stream",
     "text": [
      "(('type', None, None, None, None, None, None), ('name', None, None, None, None, None, None), ('tbl_name', None, None, None, None, None, None), ('rootpage', None, None, None, None, None, None), ('sql', None, None, None, None, None, None))\n",
      "t_student\n",
      "t_thesis\n"
     ]
    }
   ],
   "source": [
    "print(c.description)\n",
    "\n",
    "tables = c.execute('''SELECT tbl_name FROM sqlite_master''')\n",
    "for name in tables:\n",
    "    print(name[0])"
   ]
  },
  {
   "cell_type": "code",
   "execution_count": null,
   "metadata": {},
   "outputs": [],
   "source": []
  }
 ],
 "metadata": {
  "kernelspec": {
   "display_name": "Python 3",
   "language": "python",
   "name": "python3"
  },
  "language_info": {
   "codemirror_mode": {
    "name": "ipython",
    "version": 3
   },
   "file_extension": ".py",
   "mimetype": "text/x-python",
   "name": "python",
   "nbconvert_exporter": "python",
   "pygments_lexer": "ipython3",
   "version": "3.6.5"
  }
 },
 "nbformat": 4,
 "nbformat_minor": 2
}

{
 "cells": [
  {
   "cell_type": "markdown",
   "metadata": {},
   "source": [
    "# STATS 507, Fall 2019\n",
    "## Homework 1\n",
    "### uniquename : smaity\n",
    "### Estimated hours to finish HW1: 2"
   ]
  },
  {
   "cell_type": "markdown",
   "metadata": {},
   "source": [
    "### 1 Warm up: Defining simple functions\n",
    "\n",
    "#### 1. \n",
    "Function say_hi()\n"
   ]
  },
  {
   "cell_type": "code",
   "execution_count": 1,
   "metadata": {},
   "outputs": [
    {
     "name": "stdout",
     "output_type": "stream",
     "text": [
      "Hello, World!\n"
     ]
    }
   ],
   "source": [
    "def say_hi():\n",
    "    print(\"Hello, World!\") # prints the string \"Hello, World!\"\n",
    "say_hi()"
   ]
  },
  {
   "cell_type": "markdown",
   "metadata": {},
   "source": [
    "#### 2. "
   ]
  },
  {
   "cell_type": "code",
   "execution_count": 2,
   "metadata": {},
   "outputs": [
    {
     "name": "stdout",
     "output_type": "stream",
     "text": [
      "goatbirdgoat\n",
      "goat_goat\n"
     ]
    }
   ],
   "source": [
    "def goat_pad(string):\n",
    "    print(\"goat\"+string+\"goat\") # prepend and append with the string \"goat\"\n",
    "goat_pad(\"bird\")\n",
    "goat_pad(\"_\")"
   ]
  },
  {
   "cell_type": "markdown",
   "metadata": {},
   "source": [
    "#### 3."
   ]
  },
  {
   "cell_type": "code",
   "execution_count": 3,
   "metadata": {},
   "outputs": [],
   "source": [
    "def print_n(string,n):\n",
    "    print((string+\"\\n\")*n) # prints the string in seperate lines\n",
    "#print_n(\"string\",0)"
   ]
  },
  {
   "cell_type": "markdown",
   "metadata": {},
   "source": [
    "### 2: Euclid's algorithm\n",
    "#### 1."
   ]
  },
  {
   "cell_type": "code",
   "execution_count": 4,
   "metadata": {},
   "outputs": [],
   "source": [
    "def gcd(a,b): # function for calculating gcd \n",
    "    while b!= 0:\n",
    "        t = b\n",
    "        b = a%b # remainder of a when devided by b\n",
    "        a = t\n",
    "    return(a)   "
   ]
  },
  {
   "cell_type": "markdown",
   "metadata": {},
   "source": [
    "#### 2. (a)"
   ]
  },
  {
   "cell_type": "code",
   "execution_count": 5,
   "metadata": {},
   "outputs": [
    {
     "data": {
      "text/plain": [
       "1"
      ]
     },
     "execution_count": 5,
     "metadata": {},
     "output_type": "execute_result"
    }
   ],
   "source": [
    "gcd(2019,2020)"
   ]
  },
  {
   "cell_type": "markdown",
   "metadata": {},
   "source": [
    "#### 2. (b)"
   ]
  },
  {
   "cell_type": "code",
   "execution_count": 6,
   "metadata": {},
   "outputs": [
    {
     "data": {
      "text/plain": [
       "400"
      ]
     },
     "execution_count": 6,
     "metadata": {},
     "output_type": "execute_result"
    }
   ],
   "source": [
    "gcd(1600,400)"
   ]
  },
  {
   "cell_type": "markdown",
   "metadata": {},
   "source": [
    "#### 2. (c)"
   ]
  },
  {
   "cell_type": "code",
   "execution_count": 7,
   "metadata": {},
   "outputs": [
    {
     "data": {
      "text/plain": [
       "60"
      ]
     },
     "execution_count": 7,
     "metadata": {},
     "output_type": "execute_result"
    }
   ],
   "source": [
    "gcd(5040,60)"
   ]
  },
  {
   "cell_type": "code",
   "execution_count": 8,
   "metadata": {},
   "outputs": [
    {
     "data": {
      "text/plain": [
       "-5"
      ]
     },
     "execution_count": 8,
     "metadata": {},
     "output_type": "execute_result"
    }
   ],
   "source": [
    "gcd(10,-5)"
   ]
  },
  {
   "cell_type": "markdown",
   "metadata": {},
   "source": [
    "#### 3.\n",
    "\n",
    "**Result 1:** For positive integers $a$ and $b$, $\\text{gcd}(a,b) = \\min A(a,b) ,$ where $A(a,b) = \\{ ca+db : c,d \\in \\mathbb{Z} \\text{ such that }ca+db >0 \\},$ $\\mathbb{Z}$  is the set of all integers. \n",
    "\n",
    "**Proof** Let $d = \\text{gcd}(a,b)  $  and $ e = \\min A(a,b), $ which are positive integers. Then $e= ca + bd $ for some integers $c,d.$ Since, $d | a$ and $d | b.$ This implies $d | e,$ and $d\\le e,$  since both of them are positive. \n",
    "\n",
    "Now, we shall show that $e$ devides both $a$ and $b$, which will imply $e \\le d, $ because $d = \\text{gcd}(a,b).$ If $e$ doesn't devide $a$, there are integers $u\\ge0,$ and $v>0$ such that \n",
    "\\begin{align*}\n",
    "a = ue + v = u(ca+bd)+v .\n",
    "\\end{align*}\n",
    "Since, $v = (1-uc)a+ (ud) b >0,$ we have $v\\in A(a,b)$ and $v<e.$ This is a contradiction. \n",
    "Similar logic holds for $b.$"
   ]
  },
  {
   "cell_type": "markdown",
   "metadata": {},
   "source": [
    "**Result 2:** For positive integers $a$ and $b$ let $a\\ge b.$ Then  $\\text{gcd}(a,b)= \\text{gcd}(a, a-b).$\n",
    "\n",
    "\n",
    "**Proof:**  All we need to show is $A(a,b) = A(a,a-b).$ If $x\\in A(a,a-b),$ then $x = ca+ d(a-b) = (c+d)a + (-d) b, $ and  hence $x \\in A(a,b).$ If $y\\in A(a,b),$ then $y = c'a+ d'b = (c'+d')a + (-d')(a-b), $ and  hence $y \\in A(a,a-b).$"
   ]
  },
  {
   "cell_type": "markdown",
   "metadata": {},
   "source": [
    "**Result 3:** For the algorithm \"gcd\" defined above, $|\\text{gcd}(a,b)| = \\text{gcd}(|a|,|b|).$\n",
    "\n",
    "**Proof :**\n",
    "The above statement is true for $b|a.$\n",
    "\n",
    "Let us consider that the followings hold:\n",
    "\\begin{align*}\n",
    "|a| & = c_1 |b| + r_1, \\ \\text{for some integers }c_1\\ge 0, \\ \\text{and, } 0< r_1 < |b|,\\\\\n",
    "|b| & = c_1 r_1 + r_2, \\ \\text{for some integers }c_1\\ge 0, \\ \\text{and, } 0\\le  r_2 < r_1,\\\\\n",
    "\\cdots ,\n",
    "\\end{align*}\n",
    "and, for $n\\ge 1,$ $n+1$ is the first occurance of zero in the sequence of $r_1,r_2, \\ldots,$ which means  $r_1, r_2, \\ldots r_n >0 $ and $r_{n+1} = 0.$ In this case, $r_n = \\text{gcd}(|a|,|b|).$\n",
    "\n",
    "Here,  $c_1 = \\left[\\frac{|a|}{|b|}\\right],$ where, $[x]$ is the greatest integer less than or equal to $x.$\n",
    "From Euclid's algorith, we have $\\text{gcd}(|a|,|b|) = \\text{gcd}(|b|,r_1).$\n",
    "\n",
    "*Case: $a,b<0$*\n",
    "\n",
    "Let $a = c_1'b+ r_1',$ where, $c_1' = \\left[\\frac{a}{b}\\right] = \\left[\\frac{|a|}{|b|}\\right] =c_1.$ Hence, we get $$ -a = c_1 (-b) - r_1', \\ \\text{or } |a| = c_1 |b| - r_1', \\ \\text{or } r_1' = c_1 |b| - |a| = -r_1<0. $$\n",
    "\n",
    "This implies, $$ \\text{gcd}(a,b) = \\text{gcd}(-|a|,-|b|) = \\text{gcd}(-|b|, -r_1) = \\text{gcd}(-r_1, -r_2) = \\cdots = - r_n = - \\text{gcd}(|a|,|b|). $$\n",
    "\n",
    "*Case: $a<0<b$* \n",
    "\n",
    "Let $a = c_1'b+ r_1',$ where, $c_1' = \\left[\\frac{a}{b}\\right] = -\\left[\\frac{|a|}{|b|}\\right]-1 =-c_1-1.$ Hence, we get $$ -a = (-c_1-1) (-b) - r_1', \\ \\text{or } |a| = c_1 |b| + |b|  - r_1', \\ \\text{or } r_1' = |b| + c_1 |b| - |a| = |b| -r_1>0. $$\n",
    "\n",
    "This implies, $$ \\text{gcd}(a,b) = \\text{gcd}(-|a|,|b|) = \\text{gcd}(|b|, |b| -r_1) = \\text{gcd}(|a|,|b|). $$ The last equality follows form result 2 and $\\text{gcd}(|a|,|b|) = \\text{gcd}(|b|,r_1).$\n",
    "\n",
    "*Case: $b<0<a$*\n",
    "\n",
    "Let $a = c_1'b+ r_1',$ where, $c_1' = \\left[\\frac{a}{b}\\right] = -\\left[\\frac{|a|}{|b|}\\right]-1 =-c_1-1.$ Hence, we get $$ a = (-c_1-1) (-|b|) + r_1', \\ \\text{or } |a| = c_1 |b| + |b|  + r_1', \\ \\text{or } r_1' = -|b| - c_1 |b| + |a| =r_1 - |b|<0. $$\n",
    "\n",
    "This implies, $$ \\text{gcd}(a,b) = \\text{gcd}(-|b|,r_1 - |b|) = - \\text{gcd}(|b|, |b| -r_1) = - \\text{gcd}(|a|,|b|). $$"
   ]
  },
  {
   "cell_type": "markdown",
   "metadata": {},
   "source": [
    "**Conclusion:** If we ignore the sign, gcd calculated using above algorithm makes sence. "
   ]
  },
  {
   "cell_type": "markdown",
   "metadata": {},
   "source": [
    "### 3. Approximating Euler's number $e$\n",
    "#### 1."
   ]
  },
  {
   "cell_type": "code",
   "execution_count": 9,
   "metadata": {},
   "outputs": [
    {
     "data": {
      "text/plain": [
       "2.7048138294215285"
      ]
     },
     "execution_count": 9,
     "metadata": {},
     "output_type": "execute_result"
    }
   ],
   "source": [
    "import math\n",
    "def euler_limit(n):\n",
    "    return(math.pow(1+1/n,n))\n",
    "euler_limit(100)"
   ]
  },
  {
   "cell_type": "markdown",
   "metadata": {},
   "source": [
    "#### 2.\n",
    "There is limit for how  much decimals a float variable can store in python. For really large number, say, $n = 10^{16}$ the first occurance to a non-zero digit after decimal exceeds that limit in the number $\\frac1n$. Hence, the number $\\frac1n$ is stored as 0.0 in the variable. This leads to the calculation of  $1+\\frac1n$ to be $1.0$, any power of which is still 1.0."
   ]
  },
  {
   "cell_type": "code",
   "execution_count": 10,
   "metadata": {},
   "outputs": [
    {
     "data": {
      "text/plain": [
       "1.0"
      ]
     },
     "execution_count": 10,
     "metadata": {},
     "output_type": "execute_result"
    }
   ],
   "source": [
    "euler_limit(10**16)"
   ]
  },
  {
   "cell_type": "markdown",
   "metadata": {},
   "source": [
    "#### 3."
   ]
  },
  {
   "cell_type": "code",
   "execution_count": 11,
   "metadata": {},
   "outputs": [],
   "source": [
    "def euler_sum(n):\n",
    "    fact = 1\n",
    "    s = 0\n",
    "    for i in range(n):\n",
    "        s = s + 1/fact\n",
    "        fact = fact*(i+1)\n",
    "    return(s)"
   ]
  },
  {
   "cell_type": "markdown",
   "metadata": {},
   "source": [
    "#### 4."
   ]
  },
  {
   "cell_type": "code",
   "execution_count": 12,
   "metadata": {},
   "outputs": [],
   "source": [
    "def euler_approx(epsilon):\n",
    "    e = math.exp(1)\n",
    "    fact = 1\n",
    "    s = 1 \n",
    "    i = 1\n",
    "    while abs(e-s)>= epsilon:\n",
    "        s = s + 1/fact\n",
    "        i += 1\n",
    "        fact = fact * i\n",
    "    return(s)"
   ]
  },
  {
   "cell_type": "markdown",
   "metadata": {},
   "source": [
    "#### 5."
   ]
  },
  {
   "cell_type": "code",
   "execution_count": 13,
   "metadata": {},
   "outputs": [],
   "source": [
    "def print_euler_sum_table(n):\n",
    "    e = math.exp(1)\n",
    "    print(\"k   Error\\n\")\n",
    "    print(\"----------------\\n\")\n",
    "    for k in range(n):\n",
    "        print((k+1),\"   \",(e-euler_sum(k+1)))       "
   ]
  },
  {
   "cell_type": "code",
   "execution_count": 14,
   "metadata": {},
   "outputs": [
    {
     "name": "stdout",
     "output_type": "stream",
     "text": [
      "k   Error\n",
      "\n",
      "----------------\n",
      "\n",
      "1     1.718281828459045\n",
      "2     0.7182818284590451\n",
      "3     0.2182818284590451\n",
      "4     0.05161516179237857\n",
      "5     0.009948495125712054\n",
      "6     0.0016151617923787498\n",
      "7     0.0002262729034896438\n",
      "8     2.7860205076724043e-05\n",
      "9     3.0586177750535626e-06\n",
      "10     3.0288585284310443e-07\n"
     ]
    }
   ],
   "source": [
    "print_euler_sum_table(10)"
   ]
  },
  {
   "cell_type": "code",
   "execution_count": 15,
   "metadata": {},
   "outputs": [],
   "source": [
    "def print_euler_limit_table(n):\n",
    "    e = math.exp(1)\n",
    "    print(\"k   Error\\n\")\n",
    "    print(\"----------------\\n\")\n",
    "    for k in range(n):\n",
    "        print((k+1),\"   \",(e-euler_limit(k+1)))     "
   ]
  },
  {
   "cell_type": "code",
   "execution_count": 16,
   "metadata": {},
   "outputs": [
    {
     "name": "stdout",
     "output_type": "stream",
     "text": [
      "k   Error\n",
      "\n",
      "----------------\n",
      "\n",
      "1     0.7182818284590451\n",
      "2     0.4682818284590451\n",
      "3     0.3479114580886753\n",
      "4     0.2768755784590451\n",
      "5     0.22996182845904567\n",
      "6     0.19665545671693163\n",
      "7     0.17178213141833298\n",
      "8     0.1524973145086972\n",
      "9     0.13710703674584668\n",
      "10     0.12453936835904278\n"
     ]
    }
   ],
   "source": [
    "print_euler_limit_table(10)"
   ]
  },
  {
   "cell_type": "markdown",
   "metadata": {},
   "source": [
    "#### 6.\n",
    "From the above tables we see that euler_sum function gives better approximation for $e.$"
   ]
  },
  {
   "cell_type": "markdown",
   "metadata": {},
   "source": [
    "### 4. Testing Properties of an Integer\n",
    "#### 1."
   ]
  },
  {
   "cell_type": "code",
   "execution_count": 17,
   "metadata": {},
   "outputs": [],
   "source": [
    "def is_power_of_2(n):\n",
    "    if type(n) is not int:\n",
    "        raise TypeError(\"Input is not an integer\")\n",
    "    elif n<=0:\n",
    "        raise ValueError(\"Input is not positive integer\")\n",
    "    elif n==1:\n",
    "        return True\n",
    "    else:\n",
    "        if n%2 != 0:\n",
    "            return False\n",
    "        else:\n",
    "            return is_power_of_2(n//2)"
   ]
  },
  {
   "cell_type": "markdown",
   "metadata": {},
   "source": [
    "#### 2."
   ]
  },
  {
   "cell_type": "code",
   "execution_count": 19,
   "metadata": {},
   "outputs": [],
   "source": [
    "def is_power(b,n): # chech if n is a power of b\n",
    "    if type(n) is not int:\n",
    "        raise TypeError(\"Input is not an integer\")\n",
    "    elif n<=0:\n",
    "        raise ValueError(\"Input is not positive integer\")\n",
    "    elif n==1:\n",
    "        return True\n",
    "    else:\n",
    "        if n%b != 0:\n",
    "            return False\n",
    "        else:\n",
    "            return is_power(b,n//b)"
   ]
  }
 ],
 "metadata": {
  "kernelspec": {
   "display_name": "Python 3",
   "language": "python",
   "name": "python3"
  },
  "language_info": {
   "codemirror_mode": {
    "name": "ipython",
    "version": 3
   },
   "file_extension": ".py",
   "mimetype": "text/x-python",
   "name": "python",
   "nbconvert_exporter": "python",
   "pygments_lexer": "ipython3",
   "version": "3.7.3"
  }
 },
 "nbformat": 4,
 "nbformat_minor": 2
}

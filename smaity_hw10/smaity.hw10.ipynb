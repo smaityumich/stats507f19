{
 "cells": [
  {
   "cell_type": "markdown",
   "metadata": {},
   "source": [
    "# Homework 10: Google TensorFlow\n",
    "\n",
    "\n",
    "## 1 Warmup: Constructing a 3-tensor "
   ]
  },
  {
   "cell_type": "code",
   "execution_count": 20,
   "metadata": {},
   "outputs": [],
   "source": [
    "import numpy as np\n",
    "import tensorflow as tf\n",
    "\n",
    "logo0 = [[0,0,1],[0,0,1],[0,0,1],[1,1,1]]\n",
    "logo1 = [[0,0,0],[0,0,0],[0,0,1],[0,0,0]]\n",
    "logo2 = [[0,0,0],[0,0,0],[0,1,1],[0,0,0]]\n",
    "\n",
    "nplogo = np.array([logo0,logo1,logo2,logo1,logo1])\n",
    "\n",
    "tflogo = tf.constant(nplogo, dtype = tf.int16)\n"
   ]
  },
  {
   "cell_type": "code",
   "execution_count": 21,
   "metadata": {},
   "outputs": [
    {
     "name": "stdout",
     "output_type": "stream",
     "text": [
      "1\n",
      "[[[0 0 1]\n",
      "  [0 0 1]\n",
      "  [0 0 1]\n",
      "  [1 1 1]]\n",
      "\n",
      " [[0 0 0]\n",
      "  [0 0 0]\n",
      "  [0 0 1]\n",
      "  [0 0 0]]\n",
      "\n",
      " [[0 0 0]\n",
      "  [0 0 0]\n",
      "  [0 1 1]\n",
      "  [0 0 0]]\n",
      "\n",
      " [[0 0 0]\n",
      "  [0 0 0]\n",
      "  [0 0 1]\n",
      "  [0 0 0]]\n",
      "\n",
      " [[0 0 0]\n",
      "  [0 0 0]\n",
      "  [0 0 1]\n",
      "  [0 0 0]]]\n"
     ]
    }
   ],
   "source": [
    "sess = tf.Session()\n",
    "print(sess.run(tflogo[0,3,2]))\n",
    "print(sess.run(tflogo))\n",
    "sess.close()"
   ]
  },
  {
   "cell_type": "markdown",
   "metadata": {},
   "source": [
    "## 2. Building and training simple models\n",
    "\n",
    "\n",
    "### 2.1 Logistic regression with a negative log-likelihood loss\n",
    "\n",
    "Let $z=W^T X+b.$ Then $y\\sim \\text{Bernoulli}(\\sigma(z)),$ where, $\\sigma(z) = \\frac{e^z}{1+e^z}.$ Then likelihood of $y$ is given by $$L(W,b|X,y) = \\left(\\frac{e^z}{1+e^z}\\right)^y\\left(\\frac{1}{1+e^z}\\right)^{1-y} = \\frac{e^{yz}}{1+e^z}. $$ Hence the negative log-likelihood would be $$-l(W,b|X,y) = -\\log L(W,b|X,y) = \\log \\left(1+e^z\\right) - yz $$\n",
    "If we have $n$ independent data points $\\{(X_i, y_i)\\}_{i=1}^n$ distributed as above, the negative log likelihood will be \n",
    "\n",
    "$$\n",
    "-l(W,b) = \\sum_{i=1}^n\\left[ \\log \\left( 1+ \\exp(W^TX_i + b)  \\right) - y_i(W^TX_i+b)\\right]\n",
    "$$"
   ]
  },
  {
   "cell_type": "code",
   "execution_count": 22,
   "metadata": {},
   "outputs": [],
   "source": [
    "y = tf.placeholder(tf.float32, shape = [None, 1])\n",
    "z = tf.reshape(y, shape=[-1,])\n",
    "X = tf.placeholder(tf.float32,shape = [None, 6])\n",
    "\n",
    "W = tf.Variable(np.zeros(6),dtype = tf.float32, shape = [6])\n",
    "b = tf.Variable(0,dtype = tf.float32)\n",
    "linear = tf.tensordot(X,W, axes = [[1],[0]]) + b\n",
    "neg_loglikelihood = tf.log(1+tf.exp(linear)) - z*linear\n",
    "neg_log_loss = tf.reduce_sum(neg_loglikelihood)"
   ]
  },
  {
   "cell_type": "markdown",
   "metadata": {},
   "source": [
    "### 2.2 Estimating parameters in logistic regression"
   ]
  },
  {
   "cell_type": "code",
   "execution_count": 23,
   "metadata": {},
   "outputs": [],
   "source": [
    "xtest = np.load(\"logistic_data/logistic_xtest.npy\")\n",
    "ytest = np.load(\"logistic_data/logistic_ytest.npy\")\n",
    "xtrain = np.load(\"logistic_data/logistic_xtrain.npy\")\n",
    "ytrain = np.load(\"logistic_data/logistic_ytrain.npy\")"
   ]
  },
  {
   "cell_type": "code",
   "execution_count": 24,
   "metadata": {},
   "outputs": [],
   "source": [
    "sess = tf.Session()\n",
    "init = tf.global_variables_initializer()\n",
    "sess.run(init)\n",
    "\n",
    "\n",
    "rate = 0.005\n",
    "optimizer = tf.train.GradientDescentOptimizer(rate)\n",
    "train = optimizer.minimize(neg_log_loss)\n",
    "\n",
    "steps = 1000\n",
    "loss_train = np.zeros(steps)\n",
    "loss_test = np.zeros(steps)\n",
    "\n",
    "for i in range(steps):\n",
    "    sess.run(train, {X: xtrain, y: ytrain})\n",
    "    loss_train[i] = sess.run(neg_log_loss, {X:xtrain,y:ytrain})\n",
    "    loss_test[i] = sess.run(neg_log_loss, {X:xtest, y:ytest})\n",
    "    "
   ]
  },
  {
   "cell_type": "code",
   "execution_count": 25,
   "metadata": {},
   "outputs": [
    {
     "data": {
      "text/plain": [
       "Text(0.5, 0, 'Steps')"
      ]
     },
     "execution_count": 25,
     "metadata": {},
     "output_type": "execute_result"
    },
    {
     "data": {
      "image/png": "[encoded data removed]",
      "text/plain": [
       "<Figure size 432x288 with 1 Axes>"
      ]
     },
     "metadata": {
      "needs_background": "light"
     },
     "output_type": "display_data"
    }
   ],
   "source": [
    "from matplotlib import pyplot as plt\n",
    "p_tr = plt.plot(loss_train)\n",
    "p_test = plt.plot(loss_test, 'r-')\n",
    "plt.legend((p_tr[0],p_test[0]),('Train','Test'))\n",
    "plt.title(\"Negative $\\log$-likelihood for train and test data\")\n",
    "plt.xlabel(\"Steps\")"
   ]
  },
  {
   "cell_type": "markdown",
   "metadata": {},
   "source": [
    "### 2.3"
   ]
  },
  {
   "cell_type": "code",
   "execution_count": 26,
   "metadata": {},
   "outputs": [
    {
     "name": "stdout",
     "output_type": "stream",
     "text": [
      "Neagtive log-likelihood for test data is 163.01419.\n",
      "\n"
     ]
    }
   ],
   "source": [
    "test_loss = sess.run(neg_log_loss, {X:xtest, y:ytest})\n",
    "print(\"Neagtive log-likelihood for test data is \"+str(test_loss)+\".\\n\")"
   ]
  },
  {
   "cell_type": "markdown",
   "metadata": {},
   "source": [
    "### 2.4\n",
    "The squared error for a parameter $\\theta$ is calculated as $\\|\\widehat\\theta-\\theta^*\\|_2^2$, where, $\\theta^*$ and $\\widehat\\theta$ are original value of the parameter and estimated value of it, respectively."
   ]
  },
  {
   "cell_type": "code",
   "execution_count": 27,
   "metadata": {},
   "outputs": [
    {
     "name": "stdout",
     "output_type": "stream",
     "text": [
      "The squared error for \"W\" is 0.6557669.\n",
      "\n",
      "The squared error for \"b\" is 0.0020322122.\n",
      "\n"
     ]
    }
   ],
   "source": [
    "W_original = tf.constant([1,1,2,3,5,8], dtype=tf.float32)\n",
    "b_original = tf.constant(-1,dtype = tf.float32)\n",
    "\n",
    "W_squared_error = tf.reduce_sum((W_original-W)**2)\n",
    "b_sq_error = (b-b_original)**2\n",
    "\n",
    "print(\"The squared error for \\\"W\\\" is \"+str(sess.run(W_squared_error))+\".\\n\")\n",
    "print(\"The squared error for \\\"b\\\" is \"+str(sess.run(b_sq_error))+\".\\n\")"
   ]
  },
  {
   "cell_type": "markdown",
   "metadata": {},
   "source": [
    "### 2.5"
   ]
  },
  {
   "cell_type": "code",
   "execution_count": 28,
   "metadata": {},
   "outputs": [
    {
     "data": {
      "text/plain": [
       "{'W': array([0.9780812, 1.2326876, 1.4982151, 3.0153084, 4.6440253, 7.528404 ],\n",
       "       dtype=float32),\n",
       " 'Wsqerr': 0.6557669,\n",
       " 'b': -0.95491993,\n",
       " 'bsqerr': 0.0020322122,\n",
       " 'log_lik_test': 163.01419}"
      ]
     },
     "execution_count": 28,
     "metadata": {},
     "output_type": "execute_result"
    }
   ],
   "source": [
    "log_lik_test = sess.run(neg_log_loss, {X:xtest, y:ytest})\n",
    "results_logistic = {'W': sess.run(W), 'Wsqerr': sess.run(W_squared_error), 'b': sess.run(b), 'bsqerr': sess.run(b_sq_error), 'log_lik_test': log_lik_test}\n",
    "sess.close()\n",
    "results_logistic"
   ]
  },
  {
   "cell_type": "markdown",
   "metadata": {},
   "source": [
    "### 2.6"
   ]
  },
  {
   "cell_type": "code",
   "execution_count": 29,
   "metadata": {},
   "outputs": [],
   "source": [
    "## Data\n",
    "\n",
    "xtest = np.load(\"normal_data/normal_xtest.npy\")\n",
    "ytest = np.load(\"normal_data/normal_ytest.npy\")\n",
    "xtrain = np.load(\"normal_data/normal_xtrain.npy\")\n",
    "ytrain = np.load(\"normal_data/normal_ytrain.npy\")"
   ]
  },
  {
   "cell_type": "markdown",
   "metadata": {},
   "source": [
    "Since, the levels for the classes are exactly known, the cross entropy is evaluated as $$ - \\sum_{i=1}^n \\sum_{k=0}^2 y_{ik} \\log p_k(x_i), $$ where $p_k(x) = \\frac{1}{\\sqrt{2\\pi}\\sigma_k}\\exp\\left(-\\frac{(x-\\mu_k)^2}{2\\sigma_k^2}\\right).$"
   ]
  },
  {
   "cell_type": "code",
   "execution_count": 30,
   "metadata": {},
   "outputs": [],
   "source": [
    "## Building model\n",
    "\n",
    "import math\n",
    "x = tf.placeholder(tf.float32, shape = [None,1])\n",
    "ytrue = tf.placeholder(tf.float32, shape = [None,3])\n",
    "\n",
    "pi = tf.constant(math.pi)\n",
    "\n",
    "mu = tf.Variable([0,0,0],dtype = tf.float32)\n",
    "sigsq = tf.Variable([1,1,1],dtype = tf.float32)\n",
    "pdf = tf.exp(- (x-mu)**2/(2*sigsq))/tf.sqrt(2*pi*sigsq)\n",
    "y = tf.nn.softmax(pdf)\n",
    "prediction = tf.argmax(y,1)\n",
    "cross_entropy = - tf.reduce_sum(tf.log(pdf)*ytrue)\n",
    "train_step = tf.train.AdagradOptimizer(0.1).minimize(cross_entropy)"
   ]
  },
  {
   "cell_type": "code",
   "execution_count": 31,
   "metadata": {},
   "outputs": [],
   "source": [
    "## Fitting model\n",
    "\n",
    "sess = tf.InteractiveSession()\n",
    "tf.global_variables_initializer().run()\n",
    "\n",
    "correct_prediction = tf.equal(tf.argmax(y, 1), tf.argmax(ytrue, 1))\n",
    "accuracy = tf.reduce_mean(tf.cast(correct_prediction, tf.float32))\n",
    "\n",
    "\n",
    "nsteps = 5000\n",
    "tr_acc = np.zeros(nsteps)\n",
    "test_acc = np.zeros(nsteps)\n",
    "for i in range(nsteps):\n",
    "    sess.run(train_step, feed_dict={x: xtrain, ytrue: ytrain})\n",
    "    tr_acc[i] = sess.run(accuracy, feed_dict={x: xtrain, ytrue: ytrain})\n",
    "    test_acc[i] = sess.run(accuracy, feed_dict={x: xtest, ytrue: ytest})"
   ]
  },
  {
   "cell_type": "code",
   "execution_count": 32,
   "metadata": {},
   "outputs": [
    {
     "data": {
      "text/plain": [
       "Text(0.5, 0, 'steps')"
      ]
     },
     "execution_count": 32,
     "metadata": {},
     "output_type": "execute_result"
    },
    {
     "data": {
      "image/png": "[encoded data removed]",
      "text/plain": [
       "<Figure size 432x288 with 1 Axes>"
      ]
     },
     "metadata": {
      "needs_background": "light"
     },
     "output_type": "display_data"
    }
   ],
   "source": [
    "import matplotlib.pyplot as plt\n",
    "p_tr = plt.plot(range(nsteps),tr_acc)\n",
    "p_test = plt.plot(range(nsteps),test_acc,'r')\n",
    "plt.legend((p_tr[0],p_test[0]),('Train','Test'))\n",
    "plt.title(\"Plot of train vs test accuiracy\")\n",
    "plt.xlabel(\"steps\")"
   ]
  },
  {
   "cell_type": "markdown",
   "metadata": {},
   "source": [
    "### 2.7"
   ]
  },
  {
   "cell_type": "code",
   "execution_count": 33,
   "metadata": {},
   "outputs": [
    {
     "name": "stdout",
     "output_type": "stream",
     "text": [
      "The cross entropy for the test data is 686.3478.\n",
      "\n"
     ]
    }
   ],
   "source": [
    "print(\"The cross entropy for the test data is \"+str(sess.run(cross_entropy, feed_dict={x: xtest, ytrue: ytest}))+\".\\n\")"
   ]
  },
  {
   "cell_type": "markdown",
   "metadata": {},
   "source": [
    "### 2.8"
   ]
  },
  {
   "cell_type": "code",
   "execution_count": 34,
   "metadata": {},
   "outputs": [
    {
     "name": "stdout",
     "output_type": "stream",
     "text": [
      "The total square error for the parameters is 0.0015555492.\n",
      "\n"
     ]
    }
   ],
   "source": [
    "mu_original = tf.constant([-1,0,3], dtype=tf.float32)\n",
    "sigsq_original =  tf.constant([0.5, 1, 1.5], dtype=tf.float32)\n",
    "sq_error = tf.reduce_sum((mu_original-mu)**2) + tf.reduce_sum((sigsq_original-sigsq)**2)\n",
    "\n",
    "total_sqerr = sess.run(sq_error)\n",
    "print(\"The total square error for the parameters is \"+str(total_sqerr)+\".\\n\")"
   ]
  },
  {
   "cell_type": "markdown",
   "metadata": {},
   "source": [
    "### 2.9"
   ]
  },
  {
   "cell_type": "code",
   "execution_count": 35,
   "metadata": {},
   "outputs": [
    {
     "name": "stdout",
     "output_type": "stream",
     "text": [
      "The classification error for the test data is 0.2680000066757202.\n",
      "\n"
     ]
    }
   ],
   "source": [
    "classification_error = 1- sess.run(accuracy, feed_dict={x: xtest, ytrue: ytest})\n",
    "print(\"The classification error for the test data is \"+str(classification_error)+\".\\n\")"
   ]
  },
  {
   "cell_type": "markdown",
   "metadata": {},
   "source": [
    "### 2.10"
   ]
  },
  {
   "cell_type": "code",
   "execution_count": 36,
   "metadata": {},
   "outputs": [
    {
     "data": {
      "text/plain": [
       "{'mu': array([-1.0076398 ,  0.00449131,  3.0048478 ], dtype=float32),\n",
       " 'sigma2': array([0.53338265, 1.0087548 , 1.5162007 ], dtype=float32),\n",
       " 'crossent_test': 686.3478,\n",
       " 'class_error': 0.2680000066757202}"
      ]
     },
     "execution_count": 36,
     "metadata": {},
     "output_type": "execute_result"
    }
   ],
   "source": [
    "results_class = {'mu':sess.run(mu), 'sigma2': sess.run(sigsq), 'crossent_test' : sess.run(cross_entropy, feed_dict={x: xtest, ytrue: ytest}), 'class_error':classification_error}\n",
    "results_class"
   ]
  },
  {
   "cell_type": "markdown",
   "metadata": {},
   "source": [
    "## 3 Running Models on Google Cloud Platform\n",
    "\n",
    "\n",
    "### 3.1 Tutoral\n",
    "\n",
    "Verify the Google Cloud SDK components"
   ]
  },
  {
   "cell_type": "raw",
   "metadata": {},
   "source": [
    "gcloud ai-platform models list\n",
    "gcloud components update"
   ]
  },
  {
   "cell_type": "markdown",
   "metadata": {},
   "source": [
    "Download the code for this tutorial"
   ]
  },
  {
   "cell_type": "raw",
   "metadata": {},
   "source": [
    "wget https://github.com/GoogleCloudPlatform/cloudml-samples/archive/master.zip\n",
    "unzip master.zip\n",
    "cd cloudml-samples-master/census/estimator"
   ]
  },
  {
   "cell_type": "markdown",
   "metadata": {},
   "source": [
    "**Develop and validate training application locally**\n",
    "\n",
    "Get training data"
   ]
  },
  {
   "cell_type": "raw",
   "metadata": {},
   "source": [
    "mkdir data\n",
    "gsutil -m cp gs://cloud-samples-data/ai-platform/census/data/* data/\n",
    "TRAIN_DATA=$(pwd)/data/adult.data.csv\n",
    "EVAL_DATA=$(pwd)/data/adult.test.csv"
   ]
  },
  {
   "cell_type": "markdown",
   "metadata": {},
   "source": [
    "Install dependencies"
   ]
  },
  {
   "cell_type": "raw",
   "metadata": {},
   "source": [
    "pip install --user tensorflow==1.14.*"
   ]
  },
  {
   "cell_type": "markdown",
   "metadata": {},
   "source": [
    "Run a local training job"
   ]
  },
  {
   "cell_type": "raw",
   "metadata": {},
   "source": [
    "MODEL_DIR=output\n",
    "rm -rf $MODEL_DIR/*\n",
    "\n",
    "gcloud ai-platform local train \\\n",
    "    --module-name trainer.task \\\n",
    "    --package-path trainer/ \\\n",
    "    --job-dir $MODEL_DIR \\\n",
    "    -- \\\n",
    "    --train-files $TRAIN_DATA \\\n",
    "    --eval-files $EVAL_DATA \\\n",
    "    --train-steps 1000 \\\n",
    "    --eval-steps 100"
   ]
  },
  {
   "cell_type": "markdown",
   "metadata": {},
   "source": [
    "Run a local training job in distributed mode"
   ]
  },
  {
   "cell_type": "raw",
   "metadata": {},
   "source": [
    "MODEL_DIR=output-dist\n",
    "rm -rf $MODEL_DIR/*\n",
    "\n",
    "gcloud ai-platform local train \\\n",
    "    --module-name trainer.task \\\n",
    "    --package-path trainer/ \\\n",
    "    --job-dir $MODEL_DIR \\\n",
    "    --distributed \\\n",
    "    -- \\\n",
    "    --train-files $TRAIN_DATA \\\n",
    "    --eval-files $EVAL_DATA \\\n",
    "    --train-steps 1000 \\\n",
    "    --eval-steps 100"
   ]
  },
  {
   "cell_type": "markdown",
   "metadata": {},
   "source": [
    "**Develop and validate training application in cloud**\n",
    "\n",
    "Set up Cloud Storage bucket & setting up variable names"
   ]
  },
  {
   "cell_type": "raw",
   "metadata": {},
   "source": [
    "PROJECT_ID=$(gcloud config list project --format \"value(core.project)\")\n",
    "BUCKET_NAME=${PROJECT_ID}-mlengine\n",
    "REGION=us-central1\n",
    "gsutil mb -l $REGION gs://$BUCKET_NAME\n",
    "gsutil cp -r data gs://$BUCKET_NAME/data\n",
    "TRAIN_DATA=gs://$BUCKET_NAME/data/adult.data.csv\n",
    "EVAL_DATA=gs://$BUCKET_NAME/data/adult.test.csv\n",
    "gsutil cp ../test.json gs://$BUCKET_NAME/data/test.json\n",
    "TEST_JSON=gs://$BUCKET_NAME/data/test.json"
   ]
  },
  {
   "cell_type": "markdown",
   "metadata": {},
   "source": [
    "Run a single-instance training job in the cloud"
   ]
  },
  {
   "cell_type": "raw",
   "metadata": {},
   "source": [
    "JOB_NAME=census_single_1\n",
    "OUTPUT_PATH=gs://$BUCKET_NAME/$JOB_NAME\n",
    "\n",
    "gcloud ai-platform jobs submit training $JOB_NAME \\\n",
    "    --job-dir $OUTPUT_PATH \\\n",
    "    --runtime-version 1.14 \\\n",
    "    --module-name trainer.task \\\n",
    "    --package-path trainer/ \\\n",
    "    --region $REGION \\\n",
    "    -- \\\n",
    "    --train-files $TRAIN_DATA \\\n",
    "    --eval-files $EVAL_DATA \\\n",
    "    --train-steps 1000 \\\n",
    "    --eval-steps 100 \\\n",
    "    --verbosity DEBUG"
   ]
  },
  {
   "cell_type": "markdown",
   "metadata": {},
   "source": [
    "Run distributed training in the cloud"
   ]
  },
  {
   "cell_type": "raw",
   "metadata": {},
   "source": [
    "JOB_NAME=census_dist_1\n",
    "OUTPUT_PATH=gs://$BUCKET_NAME/$JOB_NAME\n",
    "\n",
    "gcloud ai-platform jobs submit training $JOB_NAME \\\n",
    "    --job-dir $OUTPUT_PATH \\\n",
    "    --runtime-version 1.14 \\\n",
    "    --module-name trainer.task \\\n",
    "    --package-path trainer/ \\\n",
    "    --region $REGION \\\n",
    "    --scale-tier STANDARD_1 \\\n",
    "    -- \\\n",
    "    --train-files $TRAIN_DATA \\\n",
    "    --eval-files $EVAL_DATA \\\n",
    "    --train-steps 1000 \\\n",
    "    --verbosity DEBUG  \\\n",
    "    --eval-steps 100"
   ]
  },
  {
   "cell_type": "markdown",
   "metadata": {},
   "source": [
    "Deploy a model to support prediction"
   ]
  },
  {
   "cell_type": "raw",
   "metadata": {},
   "source": [
    "MODEL_NAME=census\n",
    "gcloud ai-platform models create $MODEL_NAME --regions=$REGION\n",
    "OUTPUT_PATH=gs://$BUCKET_NAME/census_dist_1\n",
    "gsutil ls -r $OUTPUT_PATH/export\n",
    "MODEL_BINARIES=gs://$BUCKET_NAME/census_dist_1/export/census/1576524136/\n",
    "\n",
    "    \n",
    "gcloud ai-platform versions create v1 \\\n",
    "    --model $MODEL_NAME \\\n",
    "    --origin $MODEL_BINARIES \\\n",
    "    --runtime-version 1.14"
   ]
  },
  {
   "cell_type": "markdown",
   "metadata": {},
   "source": [
    "Send an online prediction request to a deployed model"
   ]
  },
  {
   "cell_type": "raw",
   "metadata": {},
   "source": [
    "gcloud ai-platform predict \\\n",
    "    --model $MODEL_NAME \\\n",
    "    --version v1 \\\n",
    "    --json-instances ../test.json\n",
    "    \n",
    "ALL_CLASS_IDS  ALL_CLASSES   CLASS_IDS  CLASSES  LOGISTIC               LOGITS                PROBABILITIES\n",
    "[0, 1]         [u'0', u'1']  [0]        [u'0']   [0.07596175372600555]  [-2.498523473739624]  [0.924038290977478, 0.075961\n",
    "75372600555]"
   ]
  },
  {
   "cell_type": "markdown",
   "metadata": {},
   "source": [
    "Submit a batch prediction job"
   ]
  },
  {
   "cell_type": "raw",
   "metadata": {},
   "source": [
    "JOB_NAME=census_prediction_1\n",
    "OUTPUT_PATH=gs://$BUCKET_NAME/$JOB_NAME\n",
    "gcloud ai-platform jobs submit prediction $JOB_NAME \\\n",
    "    --model $MODEL_NAME \\\n",
    "    --version v1 \\\n",
    "    --data-format text \\\n",
    "    --region $REGION \\\n",
    "    --input-paths $TEST_JSON \\\n",
    "    --output-path $OUTPUT_PATH/predictions\n",
    "    \n",
    "gsutil cat $OUTPUT_PATH/predictions/prediction.results-00000-of-00001\n",
    "\n",
    "{\"all_class_ids\": [0, 1], \"all_classes\": [\"0\", \"1\"], \"probabilities\": [0.924038290977478, 0.07596175372600555], \"classes\":\n",
    " [\"0\"], \"logistic\": [0.07596175372600555], \"class_ids\": [0], \"logits\": [-2.498523473739624]}"
   ]
  },
  {
   "cell_type": "markdown",
   "metadata": {},
   "source": [
    "### 3.2"
   ]
  },
  {
   "cell_type": "raw",
   "metadata": {},
   "source": [
    "!mkdir normal_trained\n",
    "tf.saved_model.simple_save(sess, export_dir = \"normal_trained/\", inputs = {'x':x}, outputs= {'prediction':prediction} )"
   ]
  },
  {
   "cell_type": "code",
   "execution_count": 37,
   "metadata": {},
   "outputs": [],
   "source": [
    "sess.close()"
   ]
  },
  {
   "cell_type": "markdown",
   "metadata": {},
   "source": [
    "### 3.3\n",
    "\n",
    "Creating a new bucket called \"smaity-stats507f19-hw10-normal\""
   ]
  },
  {
   "cell_type": "raw",
   "metadata": {},
   "source": [
    "BUCKET_NAME=smaity-stats507f19-hw10-normal\n",
    "REGION=us-central1\n",
    "gsutil mb -l $REGION gs://$BUCKET_NAME"
   ]
  },
  {
   "cell_type": "markdown",
   "metadata": {},
   "source": [
    "The folder \"normal_trained\" is copied in the bucket \"smaity-stats507f19-hw10-normal\".\n",
    "\n",
    "\n",
    "### 3.4 \n",
    "Creating a version of the model named \"stats507f19_hw10_normal\""
   ]
  },
  {
   "cell_type": "raw",
   "metadata": {},
   "source": [
    "MODEL_NAME=stats507f19_hw10_normal\n",
    "gcloud ai-platform models create $MODEL_NAME --regions=$REGION\n",
    "MODEL_BINARIES=gs://$BUCKET_NAME/normal_trained/\n",
    "gcloud ai-platform versions create v1 \\\n",
    "    --model $MODEL_NAME \\\n",
    "    --origin $MODEL_BINARIES \\\n",
    "    --runtime-version 1.14\n",
    "    \n",
    "gcloud ai-platform versions describe v1 --model $MODEL_NAME\n",
    "    \n",
    "createTime: '2019-12-17T00:15:58Z'\n",
    "deploymentUri: gs://smaity-stats507f19-hw10-normal/normal_trained/\n",
    "etag: -3zNDocecIQ=\n",
    "framework: TENSORFLOW\n",
    "isDefault: true\n",
    "machineType: mls1-c1-m2\n",
    "name: projects/smaity-stats507f19/models/stats507f19_hw10_normal/versions/v1\n",
    "pythonVersion: '2.7'\n",
    "runtimeVersion: '1.14'\n",
    "state: READY"
   ]
  },
  {
   "cell_type": "markdown",
   "metadata": {},
   "source": [
    "### 3.5\n",
    "Creating a .json file for perdiction of $x=4.$"
   ]
  },
  {
   "cell_type": "raw",
   "metadata": {},
   "source": [
    "mkdir normal_trained\n",
    "cd ~/normal_trained\n",
    "nano instance.hw10.json"
   ]
  },
  {
   "cell_type": "markdown",
   "metadata": {},
   "source": [
    "Within the nano editor window write:"
   ]
  },
  {
   "cell_type": "raw",
   "metadata": {},
   "source": [
    "{\"x\":[4]}"
   ]
  },
  {
   "cell_type": "markdown",
   "metadata": {},
   "source": [
    "Save by CTRL+X then \"y\" and ENTER"
   ]
  },
  {
   "cell_type": "markdown",
   "metadata": {},
   "source": [
    "### 3.6"
   ]
  },
  {
   "cell_type": "raw",
   "metadata": {},
   "source": [
    "gcloud ai-platform predict --model $MODEL_NAME \\\n",
    "    --version v1 \\\n",
    "    --json-instances ./instance.hw10.json \n",
    "    \n",
    "PREDICTION\n",
    "2"
   ]
  },
  {
   "cell_type": "markdown",
   "metadata": {},
   "source": [
    "So, the model predicts that $x=4$ is most likely to be from the class 2 (with 0 indexing)."
   ]
  }
 ],
 "metadata": {
  "kernelspec": {
   "display_name": "Python 3",
   "language": "python",
   "name": "python3"
  },
  "language_info": {
   "codemirror_mode": {
    "name": "ipython",
    "version": 3
   },
   "file_extension": ".py",
   "mimetype": "text/x-python",
   "name": "python",
   "nbconvert_exporter": "python",
   "pygments_lexer": "ipython3",
   "version": "3.7.4"
  }
 },
 "nbformat": 4,
 "nbformat_minor": 2
}

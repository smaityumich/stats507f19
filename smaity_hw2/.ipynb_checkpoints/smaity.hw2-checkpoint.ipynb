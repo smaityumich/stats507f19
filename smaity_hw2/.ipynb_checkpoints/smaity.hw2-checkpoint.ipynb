{
 "cells": [
  {
   "cell_type": "markdown",
   "metadata": {},
   "source": [
    "# Homework 2: Iteration. Sequences, and Dictionaries\n",
    "## 1 Fun with Strings\n",
    "### 1 is_palindrome() function"
   ]
  },
  {
   "cell_type": "code",
   "execution_count": 3,
   "metadata": {},
   "outputs": [],
   "source": [
    "def is_palindrome(string):\n",
    "    string1 = string.replace(\" \",\"\")\n",
    "    string2 = string1.lower()\n",
    "    n = len(string2)\n",
    "    out = True\n",
    "    for k in range(n//2):\n",
    "        if string2[k] != string2[n-1-k]: #checking for palindrome\n",
    "            out = False\n",
    "            break\n",
    "    return(out)"
   ]
  },
  {
   "cell_type": "markdown",
   "metadata": {},
   "source": [
    "### 2 Check for \"abecedarian\""
   ]
  },
  {
   "cell_type": "code",
   "execution_count": 4,
   "metadata": {},
   "outputs": [],
   "source": [
    "def abecedarian(string):\n",
    "    string1 = string.replace(\" \",\"\")\n",
    "    string2 = string1.lower()\n",
    "    n = len(string2)\n",
    "    out = True\n",
    "    for k in range(n-1):\n",
    "        if string2[k]>string2[k+1]: #checking for alphabetic order\n",
    "            out = False\n",
    "            break\n",
    "    return(out)"
   ]
  },
  {
   "cell_type": "markdown",
   "metadata": {},
   "source": [
    "### 3"
   ]
  },
  {
   "cell_type": "code",
   "execution_count": 5,
   "metadata": {},
   "outputs": [],
   "source": [
    "def double_vowels(string):\n",
    "    l = list()\n",
    "    print(l)\n",
    "    n = len(string)\n",
    "    vowel = ['a','e','i','o','u']\n",
    "    count_vowel = 0\n",
    "    for i in range(len(string)):\n",
    "        if string[i] in vowel: \n",
    "            l.append(string[i]) #append two vowels\n",
    "            l.append(string[i])\n",
    "        else:\n",
    "            l.append(string[i])\n",
    "    delimiter = \"\"\n",
    "    r = delimiter.join(l)\n",
    "    return r"
   ]
  },
  {
   "cell_type": "markdown",
   "metadata": {},
   "source": [
    "## Fun with Lists\n",
    "### 1."
   ]
  },
  {
   "cell_type": "code",
   "execution_count": 6,
   "metadata": {},
   "outputs": [],
   "source": [
    "def list_reverse(l):\n",
    "    if type(l) is not list:\n",
    "        raise TypeError(\"Input is not a list.\")\n",
    "    else:\n",
    "        u = list()\n",
    "        n = len(l)\n",
    "        [u.append(l[n-i-1]) for i in range(n)] #append list in reverse order\n",
    "    return u"
   ]
  },
  {
   "cell_type": "markdown",
   "metadata": {},
   "source": [
    "### 2."
   ]
  },
  {
   "cell_type": "code",
   "execution_count": 7,
   "metadata": {},
   "outputs": [],
   "source": [
    "def is_sorted(seq):\n",
    "    ret = True\n",
    "    n = len(seq)\n",
    "    if n>0:\n",
    "        for i in range(n-1):\n",
    "            if seq[i]>seq[i+1]: #checking if i-th element is larger than (i+1)-th element\n",
    "                ret = False\n",
    "                break\n",
    "    return ret"
   ]
  },
  {
   "cell_type": "markdown",
   "metadata": {},
   "source": [
    "### 3."
   ]
  },
  {
   "cell_type": "code",
   "execution_count": 8,
   "metadata": {},
   "outputs": [],
   "source": [
    "def binary_search(t,elmt):\n",
    "    n = len(t)\n",
    "    ret = False\n",
    "    if n == 0: #return false if empty list\n",
    "        return False\n",
    "    elif n == 1:\n",
    "        if elmt == t[0]: # check existance of elmt in list t if length of list is 1 or 2\n",
    "            return True\n",
    "        else:\n",
    "            return False\n",
    "    elif n == 2:\n",
    "        if elmt == t[0] or elmt == t[1]:\n",
    "            return True\n",
    "        else: \n",
    "            return False\n",
    "    else:\n",
    "        m = (n-1)//2\n",
    "        if t[m] == elmt:\n",
    "            return True\n",
    "        elif t[m] > elmt:\n",
    "            return binary_search(t[:(m-1)],elmt)\n",
    "        else:\n",
    "            return binary_search(t[(m-1):])"
   ]
  },
  {
   "cell_type": "markdown",
   "metadata": {},
   "source": [
    "## 3. More Fun with Strings\n",
    "### 1."
   ]
  },
  {
   "cell_type": "code",
   "execution_count": 9,
   "metadata": {},
   "outputs": [],
   "source": [
    "def char_hist(string): #histogram for characters\n",
    "    string1 = string.lower()\n",
    "    hist = dict()\n",
    "    for c in string1:\n",
    "        hist[c] = hist.get(c,0) + 1\n",
    "    return hist"
   ]
  },
  {
   "cell_type": "markdown",
   "metadata": {},
   "source": [
    "### 2."
   ]
  },
  {
   "cell_type": "code",
   "execution_count": 10,
   "metadata": {},
   "outputs": [],
   "source": [
    "def bigram_hist(string): # histogram for bigrams of characters\n",
    "    string1 = string.lower()\n",
    "    hist = dict()\n",
    "    for i in range(len(string)-1):\n",
    "        a = tuple(string1[i:i+2])\n",
    "        hist[a] = hist.get(a,0) + 1\n",
    "    return hist"
   ]
  },
  {
   "cell_type": "markdown",
   "metadata": {},
   "source": [
    "## 4. Tuples as Vectors\n",
    "### 1."
   ]
  },
  {
   "cell_type": "code",
   "execution_count": 11,
   "metadata": {},
   "outputs": [],
   "source": [
    "def vec_scalar_mult(t,s):\n",
    "    if type(s) is not (int or float):\n",
    "        raise TypeError(\"s is neither integer nor float.\")\n",
    "    if type(t) is not tuple:\n",
    "        raise TypeError(\"t is not a tuple.\")\n",
    "    for i in range(len(t)):\n",
    "        if type(t[i]) is not (int or float):\n",
    "            raise TypeError('Element', i, 'in the tuple t is neither integer nor float.')\n",
    "    r = list(t)\n",
    "    r = [s*i for i in r]\n",
    "    rtuple = tuple(r)\n",
    "    return rtuple"
   ]
  },
  {
   "cell_type": "code",
   "execution_count": 12,
   "metadata": {},
   "outputs": [],
   "source": [
    "def vec_inner_product(x,y):\n",
    "    if type(x) is not tuple:\n",
    "        raise TypeError(\"x is not a tuple.\")\n",
    "    for i in range(len(x)):\n",
    "        if type(x[i]) is not (int or float):\n",
    "            raise TypeError('Element', i, 'in the tuple t is neither integer nor float.')\n",
    "    if type(y) is not tuple:\n",
    "        raise TypeError(\"y is not a tuple.\")\n",
    "    for i in range(len(y)):\n",
    "        if type(y[i]) is not (int or float):\n",
    "            raise TypeError('Element', i, 'in the tuple t is neither integer nor float.')\n",
    "    if len(x) != len(y):\n",
    "        raise ValueError('Length of the vectors are not same.')\n",
    "    s = 0\n",
    "    for i in range(len(x)):\n",
    "        s += x[i]*y[i]\n",
    "    return s"
   ]
  },
  {
   "cell_type": "code",
   "execution_count": 13,
   "metadata": {},
   "outputs": [],
   "source": [
    "def check_valid_mx(mx):\n",
    "    isMatrix = True\n",
    "    if len(mx) == 0:\n",
    "        isMatrix = False\n",
    "    elif type(mx) is not tuple:\n",
    "        isMatrix = False\n",
    "    else:\n",
    "        m = len(mx)\n",
    "        nv = list()\n",
    "        for x in mx:\n",
    "            if type(x) is not tuple:\n",
    "                isMatrix = False\n",
    "                break\n",
    "            elif len(x) ==0:\n",
    "                isMatrix = False\n",
    "            else:\n",
    "                for y in x:\n",
    "                    if type(y) is not (int or float):\n",
    "                        isMatrix = False\n",
    "                        break\n",
    "                nv.append(len(x))\n",
    "        if isMatrix == True and len(mx) > 1:\n",
    "             for i in range(len(nv)-1):\n",
    "                isMatrix = isMatrix and (nv[i] == nv[i+1]) \n",
    "    return isMatrix"
   ]
  },
  {
   "cell_type": "code",
   "execution_count": 14,
   "metadata": {},
   "outputs": [],
   "source": [
    "def mx_vec_mult(mx,x):\n",
    "    isMx = check_valid_mx(mx)\n",
    "    isVec = True\n",
    "    if type(x) is not tuple:\n",
    "        isVec = False\n",
    "    else:\n",
    "        for i in range(len(x)):\n",
    "            if type(x[i]) is not (int or float):\n",
    "                isVec = False\n",
    "    if not isMx:\n",
    "        raise ValueError(\"Matrix input is not a valid matrix of integer/float\")\n",
    "    elif not isVec:\n",
    "        raise ValueError(\"Vector input is not a valid vector of integer/float\")\n",
    "    else:\n",
    "        n1 = len(x)\n",
    "        n2 = len(mx[0])\n",
    "        if n1 != n2:\n",
    "            raise ValueError(\"Mismatch in dimension\")\n",
    "        else:\n",
    "            rv = list()\n",
    "            for y in mx:\n",
    "                rv.append(vec_inner_product(y,x))\n",
    "    return tuple(rv)"
   ]
  },
  {
   "cell_type": "markdown",
   "metadata": {},
   "source": [
    "## 5 More Fun with Vectors\n",
    "### 1"
   ]
  },
  {
   "cell_type": "code",
   "execution_count": 15,
   "metadata": {},
   "outputs": [],
   "source": [
    "def is_valid_sparse_vector(mydict):\n",
    "    ret = True\n",
    "    if type(mydict) is not dict:\n",
    "        ret = False\n",
    "    else:\n",
    "        ind = list(mydict.keys())\n",
    "        for i in ind:\n",
    "            if (type(i) is not int):\n",
    "                ret = False\n",
    "            else:\n",
    "                if i<=0:\n",
    "                    ret = False\n",
    "        vals = list(mydict.values()) \n",
    "        for i in vals:\n",
    "            if type(i) is not (int or float):\n",
    "                ret = False\n",
    "    return ret"
   ]
  },
  {
   "cell_type": "code",
   "execution_count": 16,
   "metadata": {},
   "outputs": [],
   "source": [
    "def sparse_inner_product(x,y):\n",
    "    if not is_valid_sparse_vector(x):\n",
    "        raise ValueError(\"First entry is not a valid sparse vector\")\n",
    "    elif not is_valid_sparse_vector(y):\n",
    "        raise ValueError(\"Second entry is not a valid sparse vector\")\n",
    "    else:\n",
    "        indx = list(x.keys())\n",
    "        indy = list(y.keys())\n",
    "        s = 0\n",
    "        for i in indx:\n",
    "            if i in indy:\n",
    "                s += x[i]*y[i]\n",
    "    return s"
   ]
  },
  {
   "cell_type": "markdown",
   "metadata": {},
   "source": [
    "## 6. More Fun with Tuples\n",
    "### 1"
   ]
  },
  {
   "cell_type": "code",
   "execution_count": 17,
   "metadata": {},
   "outputs": [],
   "source": [
    "def my_sum(x):\n",
    "    n = len(x)\n",
    "    r = 0\n",
    "    if n>0:\n",
    "        for a in x:\n",
    "            r += a\n",
    "    return r"
   ]
  },
  {
   "cell_type": "code",
   "execution_count": 18,
   "metadata": {},
   "outputs": [],
   "source": [
    "def reverse_tuple(x):\n",
    "    y = list()\n",
    "    n = len(x)\n",
    "    a = range(n)\n",
    "    [y.append(x[n-1-i]) for i in a]\n",
    "    return tuple(y)"
   ]
  },
  {
   "cell_type": "code",
   "execution_count": 19,
   "metadata": {},
   "outputs": [],
   "source": [
    "def rotate_tuple(x,n):\n",
    "    if type(x) is not tuple:\n",
    "        raise TypeError(\"Tuple entry is not tuple.\")\n",
    "    elif len(x)==0:\n",
    "        raise ValueError('Tuple input is empty tuple.')\n",
    "    else:\n",
    "        if type(n) is not int: #discussed try and except part with Vincenzo Loffredo\n",
    "            try:\n",
    "                n = int(n)\n",
    "            except:\n",
    "                raise TypeError(\"Give an integer input for the second argument.\")\n",
    "        m = len(x)\n",
    "        ind = list(range(m))\n",
    "        for i in range(m):\n",
    "            a = x[i]\n",
    "            a = (a + n)%m\n",
    "            if a<0:\n",
    "                a = a + m\n",
    "            ind[i] = a\n",
    "        op = list()\n",
    "        for i in range(m):\n",
    "            a = ind[i]\n",
    "            op.append(x[a])\n",
    "        return tuple(op)"
   ]
  }
 ],
 "metadata": {
  "kernelspec": {
   "display_name": "Python 3",
   "language": "python",
   "name": "python3"
  },
  "language_info": {
   "codemirror_mode": {
    "name": "ipython",
    "version": 3
   },
   "file_extension": ".py",
   "mimetype": "text/x-python",
   "name": "python",
   "nbconvert_exporter": "python",
   "pygments_lexer": "ipython3",
   "version": "3.7.3"
  }
 },
 "nbformat": 4,
 "nbformat_minor": 2
}

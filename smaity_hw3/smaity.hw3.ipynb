{
 "cells": [
  {
   "cell_type": "markdown",
   "metadata": {},
   "source": [
    "# Homework 3\n",
    "\n",
    "## Count Word Bigrams\n",
    "\n",
    "### 1"
   ]
  },
  {
   "cell_type": "code",
   "execution_count": 11,
   "metadata": {},
   "outputs": [
    {
     "data": {
      "text/plain": [
       "{('a', 'league'): 3,\n",
       " ('all', 'in'): 1,\n",
       " ('death', 'rode'): 1,\n",
       " ('half', 'a'): 3,\n",
       " ('in', 'the'): 1,\n",
       " ('league', 'half'): 2,\n",
       " ('league', 'onward'): 1,\n",
       " ('of', 'death'): 1,\n",
       " ('onward', 'all'): 1,\n",
       " ('rode', 'the'): 1,\n",
       " ('six', 'hundred'): 1,\n",
       " ('the', 'six'): 1,\n",
       " ('the', 'valley'): 1,\n",
       " ('valley', 'of'): 1}"
      ]
     },
     "execution_count": 11,
     "metadata": {},
     "output_type": "execute_result"
    }
   ],
   "source": [
    "def count_bigrams_in_file(filename):\n",
    "    if type(filename) is not str:\n",
    "        raise TypeError(\"Input is not string.\")\n",
    "    else:\n",
    "        try:\n",
    "            f = open(filename)\n",
    "        except:\n",
    "            print(\"Wrong filename: file \", filename, \" can't be opened.\")\n",
    "    words = list()\n",
    "    chars = ['*','\"','?','.','!',':',';',')','(',',','-','@','#','$','^','%','&','/','}','{','[',']','+']\n",
    "    numbers = ['0','1','2','3','4','5','6','7','8','9']\n",
    "    for line in f:\n",
    "        for i in chars:\n",
    "            line = line.replace(i,\" \")\n",
    "        for wd in line.split():\n",
    "            wd = wd.strip(\"'\")\n",
    "            wd = wd.strip('\"')\n",
    "            r = 1\n",
    "            for j in numbers:\n",
    "                r *= -(wd.find(j))\n",
    "            if r != 0:\n",
    "                words.append(wd.lower())\n",
    "    hist = dict()\n",
    "    for i in range(len(words)-1): \n",
    "        d = tuple(words[i:i+2])\n",
    "        hist[d] = hist.get(d,0) + 1\n",
    "    f.close()\n",
    "    return hist\n",
    "count_bigrams_in_file(\"poem.txt\")"
   ]
  },
  {
   "cell_type": "markdown",
   "metadata": {},
   "source": [
    "### 2"
   ]
  },
  {
   "cell_type": "code",
   "execution_count": 12,
   "metadata": {},
   "outputs": [],
   "source": [
    "import pickle\n",
    "hist = count_bigrams_in_file(\"WandP.txt\")\n",
    "p = pickle.dumps(hist)\n",
    "f = open('mb.bigrams.pickle','wb')\n",
    "f.write(p)\n",
    "f.close()"
   ]
  },
  {
   "cell_type": "markdown",
   "metadata": {},
   "source": [
    "### 3"
   ]
  },
  {
   "cell_type": "code",
   "execution_count": 13,
   "metadata": {},
   "outputs": [
    {
     "name": "stdout",
     "output_type": "stream",
     "text": [
      "{'half': {'league', 'a'}, 'six': {'the', 'hundred'}, 'a': {'half', 'league'}, 'hundred': {'six'}, 'rode': {'the', 'death'}, 'of': {'death', 'valley'}, 'onward': {'all', 'league'}, 'league': {'half', 'onward', 'a'}, 'death': {'rode', 'of'}, 'all': {'onward', 'in'}, 'in': {'all', 'the'}, 'valley': {'the', 'of'}, 'the': {'rode', 'six', 'in', 'valley'}}\n"
     ]
    }
   ],
   "source": [
    "def collocations(filename):\n",
    "    hist_bigrams = count_bigrams_in_file(filename)\n",
    "    list_bigrams = list(hist_bigrams.keys())\n",
    "    hist = dict()\n",
    "    for bigram in list_bigrams:\n",
    "        a = bigram[0]\n",
    "        b = bigram[1]\n",
    "        c = hist.get(a,set())\n",
    "        c.add(b)\n",
    "        hist[a] = c\n",
    "        c = hist.get(b,set())\n",
    "        c.add(a)\n",
    "        hist[b] = c\n",
    "    return hist\n",
    "print(collocations(\"poem.txt\"))\n",
    "    "
   ]
  },
  {
   "cell_type": "markdown",
   "metadata": {},
   "source": [
    "### 4"
   ]
  },
  {
   "cell_type": "code",
   "execution_count": 14,
   "metadata": {},
   "outputs": [],
   "source": [
    "hist = collocations('WandP.txt')\n",
    "p = pickle.dumps(hist)\n",
    "f = open('mb.colloc.pickle','wb')\n",
    "f.write(p)\n",
    "f.close()"
   ]
  },
  {
   "cell_type": "markdown",
   "metadata": {},
   "source": [
    "## 2. More Fun with Vectors"
   ]
  },
  {
   "cell_type": "code",
   "execution_count": 15,
   "metadata": {},
   "outputs": [],
   "source": [
    "class Vector:\n",
    "    '''Representation of vectors with dimension and elements in a tuple'''\n",
    "    \n",
    "    def __init__(self, dim = 1, args = ()): ## 1. Initialization: dimension must match with the number of elements given\n",
    "        if type(dim) is not int:\n",
    "            raise TypeError(\"Dimension must be integer\")\n",
    "        elif dim <= 0:\n",
    "            raise ValueError(\"Dimension must be positive integer.\")\n",
    "        else:\n",
    "            self.dim = dim\n",
    "            if len(args) == 0:\n",
    "                self.vector = tuple([0]*dim) ## If args is empty, for a valid dimension, we define the entries to be the \n",
    "                ## (0,0,...) tuple\n",
    "            else:\n",
    "                if type(args) is not tuple:\n",
    "                    try:\n",
    "                        args = tuple(args)\n",
    "                    except:\n",
    "                        raise TypeError(\"args is not sequence\")\n",
    "                for x in args:\n",
    "                    if type(x) is not (int or float):\n",
    "                        raise TypeError(\"Some of the values in args is neither int nor float\")\n",
    "                if len(args) != self.dim:\n",
    "                    raise ValueError(\"Number of arguments don't match with dimension.\")\n",
    "                self.vector = args\n",
    "        \n",
    "        \n",
    "    def __lt__(self,other) : ## 4: Implementation of comparison operators\n",
    "        if type(other) is not Vector:\n",
    "            raise TypeError(\"other is not a Vector\")\n",
    "        if self.dim != other.dim:\n",
    "            raise ValueError(\"Dimensions are different. Comparison is not possible\")\n",
    "        else:\n",
    "            return self.vector < other.vector\n",
    "    \n",
    "    def __gt__(self,other):\n",
    "        return other.lt(self)\n",
    "    \n",
    "    def __eq__(self,other):\n",
    "        if type(other) is not Vector:\n",
    "            raise TypeError(\"other is not a Vector\")\n",
    "        if self.dim != other.dim:\n",
    "            raise ValueError(\"Dimensions are different. Comparison is not possible\")\n",
    "        else:\n",
    "            return self.vector == other.vector\n",
    "            \n",
    "    def __le__(self,other):\n",
    "        return (self < other) or (self == other)\n",
    "    \n",
    "    \n",
    "    def __ge__(self,other):\n",
    "        return other.le(self)\n",
    "    \n",
    "    def dot(self, other): ## 5. Implementation of dot product\n",
    "        if type(other) is not Vector:\n",
    "            raise TypeError(\"other is not a vector\")\n",
    "        if self.dim != other.dim:\n",
    "            raise ValueError(\"Dimensions are not equal\")\n",
    "        s = 0\n",
    "        for i in range(self.dim):\n",
    "            s += self.vector[i]*other.vector[i]\n",
    "        return s\n",
    "    \n",
    "    \n",
    "    def __mul__(self,other): ## 6. Implementation of vector multiplication\n",
    "        if type(other) is (int or float):\n",
    "            t = [other*a for a in self.vector]\n",
    "            return Vector(dim = self.dim, args = t)\n",
    "        elif type(other) is Vector:\n",
    "            if other.dim != self.dim:\n",
    "                raise ValueError(\"Dimensions don't match\")\n",
    "            else:\n",
    "                t = [self.vector[i]*other.vector[i] for i in range(self.dim)]\n",
    "                return Vector(dim = self.dim, args = t)\n",
    "        else:\n",
    "            raise TypeError(\"other is not a vector\") \n",
    "            \n",
    "    def __rmul__(self,other):\n",
    "        return self.__mul__(other)\n",
    "    \n",
    "    import math\n",
    "    def norm(self,p):  ##7: Implementation of norm function\n",
    "        if p == math.inf:\n",
    "            ret = 0\n",
    "            for i in range(self.dim):\n",
    "                if abs(self.vector[i])>ret:\n",
    "                    ret = self.vector[i]\n",
    "            return ret \n",
    "        elif p == -math.inf:\n",
    "            raise ValueError(\"p is negative infinity.\")\n",
    "        else:\n",
    "            if type(p) is not (int or float):\n",
    "                raise TypeError(\"p is neither int nor float.\")\n",
    "            elif p<0:\n",
    "                raise ValueError(\"p is negative.\")\n",
    "            elif p==0:\n",
    "                s = 0\n",
    "                for i in range(self.dim):\n",
    "                    if self.vector[i] != 0:\n",
    "                        s += 1\n",
    "                return s\n",
    "            else:\n",
    "                ret = 0\n",
    "                for i in range(self.dim):\n",
    "                    ret += pow(self.vector[i],p)\n",
    "                ret = pow(ret,1/p)\n",
    "                return ret\n",
    "            "
   ]
  },
  {
   "cell_type": "markdown",
   "metadata": {},
   "source": [
    "### 2. \n",
    "I chose vector entries to be tuple. Since tuples are immutable, they require less memory. We can define large tuple, which will help us to define large vectors. "
   ]
  },
  {
   "cell_type": "markdown",
   "metadata": {},
   "source": [
    "### 3.\n",
    "Dimensions and entries are instance attributes. Since different instances of class \"Vector\" might have different dimensions and entries, instance attributes allows us to have different values for them, for different instances. If they were defined as class attributes, then all the instances of that class would have same value of that attribute. "
   ]
  }
 ],
 "metadata": {
  "kernelspec": {
   "display_name": "Python 3",
   "language": "python",
   "name": "python3"
  },
  "language_info": {
   "codemirror_mode": {
    "name": "ipython",
    "version": 3
   },
   "file_extension": ".py",
   "mimetype": "text/x-python",
   "name": "python",
   "nbconvert_exporter": "python",
   "pygments_lexer": "ipython3",
   "version": "3.5.4"
  }
 },
 "nbformat": 4,
 "nbformat_minor": 2
}

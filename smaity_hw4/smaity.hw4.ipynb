{
 "cells": [
  {
   "cell_type": "markdown",
   "metadata": {},
   "source": [
    "# Homework 4\n",
    "## 1. Iterators and Generators\n",
    "### 1. "
   ]
  },
  {
   "cell_type": "code",
   "execution_count": 39,
   "metadata": {},
   "outputs": [
    {
     "data": {
      "text/plain": [
       "[0, 1, 1, 2, 3, 5, 8, 13, 21, 34]"
      ]
     },
     "execution_count": 39,
     "metadata": {},
     "output_type": "execute_result"
    }
   ],
   "source": [
    "class Fibo():\n",
    "    '''Class of iterators that enumerates the Fibonacci numbers'''\n",
    "    def __init__(self):\n",
    "        self.fibo = (0,1)\n",
    "    def __next__(self):\n",
    "        a = self.fibo[0]\n",
    "        self.fibo = (self.fibo[1],self.fibo[0]+self.fibo[1])\n",
    "        return a\n",
    "    def __iter__(self):\n",
    "        return self\n",
    "s = Fibo()  \n",
    "a = [next(s) for _ in range(10)]\n",
    "a"
   ]
  },
  {
   "cell_type": "markdown",
   "metadata": {},
   "source": [
    "### 2."
   ]
  },
  {
   "cell_type": "code",
   "execution_count": 64,
   "metadata": {},
   "outputs": [
    {
     "data": {
      "text/plain": [
       "[0, 1, 1, 2, 3, 5, 8, 13, 21, 34]"
      ]
     },
     "execution_count": 64,
     "metadata": {},
     "output_type": "execute_result"
    }
   ],
   "source": [
    "class GenFibo():\n",
    "    '''Class of generalized fibo'''\n",
    "    def __init__(self, f0 = 0, f1 = 1):\n",
    "        self.fibo = (f0,f1)\n",
    "    def __next__(self):\n",
    "        a = self.fibo[0]\n",
    "        self.fibo = (self.fibo[1],self.fibo[0]+self.fibo[1])\n",
    "        return a\n",
    "    def __iter__(self):\n",
    "        return self\n",
    "s = GenFibo()\n",
    "a = [next(s) for _ in range(10)]\n",
    "a"
   ]
  },
  {
   "cell_type": "markdown",
   "metadata": {},
   "source": [
    "### 3."
   ]
  },
  {
   "cell_type": "code",
   "execution_count": 65,
   "metadata": {},
   "outputs": [
    {
     "data": {
      "text/plain": [
       "[2, 3, 5, 7, 11, 13, 17, 19, 23, 29]"
      ]
     },
     "execution_count": 65,
     "metadata": {},
     "output_type": "execute_result"
    }
   ],
   "source": [
    "import math\n",
    "def primes():\n",
    "    prime = 1\n",
    "    while True:\n",
    "        prime += 1\n",
    "        while any([prime % i == 0 for i in range(2,(math.floor(math.sqrt(prime))+1))]):\n",
    "            prime += 1\n",
    "        yield prime\n",
    "    \n",
    "\n",
    "s = primes()\n",
    "a = [next(s) for _ in range(10)]\n",
    "a  "
   ]
  },
  {
   "cell_type": "markdown",
   "metadata": {},
   "source": [
    "### 4."
   ]
  },
  {
   "cell_type": "code",
   "execution_count": 63,
   "metadata": {},
   "outputs": [
    {
     "name": "stdout",
     "output_type": "stream",
     "text": [
      "1\n",
      "[1, 2, 3, 4, 6, 8, 11, 13, 16, 18]\n",
      "[1, 2, 3, 4, 6, 8, 11, 13, 16, 18]\n"
     ]
    }
   ],
   "source": [
    "import math \n",
    "def number_of_sums(t, u):\n",
    "    count = 0\n",
    "    n = len(t)\n",
    "    g = n-1\n",
    "    while t[g]>u/2:\n",
    "        for l in range(g):\n",
    "            if t[g] + t[l] == u:\n",
    "                count += 1\n",
    "                l = g\n",
    "            elif t[l] + t[g] < u:\n",
    "                l += 1\n",
    "            else:\n",
    "                l = g\n",
    "        g -= 1\n",
    "    return count\n",
    "print(number_of_sums([1,2,],3))\n",
    "        \n",
    "ulam_list = [1,2] \n",
    "\n",
    "def ulam():\n",
    "    n = 1\n",
    "    global ulam_list\n",
    "    while True:\n",
    "        if n <= 2:\n",
    "            yield n\n",
    "            n += 1\n",
    "        else:\n",
    "            while number_of_sums(ulam_list, n) != 1:\n",
    "                n += 1\n",
    "            ulam_list.append(n)\n",
    "            yield n\n",
    "            n += 1\n",
    "\n",
    "            \n",
    "s = ulam()\n",
    "a = [next(s) for _ in range(10)]\n",
    "print(a) \n",
    "print(ulam_list)"
   ]
  },
  {
   "cell_type": "markdown",
   "metadata": {},
   "source": [
    "## 2. List Comprehensions and Generator Expressions\n",
    "### 1"
   ]
  },
  {
   "cell_type": "code",
   "execution_count": 44,
   "metadata": {},
   "outputs": [
    {
     "name": "stdout",
     "output_type": "stream",
     "text": [
      "20\n"
     ]
    },
    {
     "data": {
      "text/plain": [
       "[2,\n",
       " 8,\n",
       " 26,\n",
       " 80,\n",
       " 242,\n",
       " 728,\n",
       " 2186,\n",
       " 6560,\n",
       " 19682,\n",
       " 59048,\n",
       " 177146,\n",
       " 531440,\n",
       " 1594322,\n",
       " 4782968,\n",
       " 14348906,\n",
       " 43046720,\n",
       " 129140162,\n",
       " 387420488,\n",
       " 1162261466,\n",
       " 3486784400]"
      ]
     },
     "execution_count": 44,
     "metadata": {},
     "output_type": "execute_result"
    }
   ],
   "source": [
    "pow2minus1 = [3**n - 1 for n in range(1,21)]\n",
    "print(len(pow2minus1))\n",
    "pow2minus1"
   ]
  },
  {
   "cell_type": "markdown",
   "metadata": {},
   "source": [
    "### 2."
   ]
  },
  {
   "cell_type": "code",
   "execution_count": 45,
   "metadata": {},
   "outputs": [
    {
     "data": {
      "text/plain": [
       "[1, 2, 4, 7, 11, 16, 22, 29, 37, 46]"
      ]
     },
     "execution_count": 45,
     "metadata": {},
     "output_type": "execute_result"
    }
   ],
   "source": [
    "def non_neg():\n",
    "    n = -1\n",
    "    while True:\n",
    "        n += 1\n",
    "        yield n\n",
    "s = non_neg()\n",
    "caterer = ((n**2+n+2)//2 for n in s)"
   ]
  },
  {
   "cell_type": "markdown",
   "metadata": {},
   "source": [
    "### 3."
   ]
  },
  {
   "cell_type": "code",
   "execution_count": 46,
   "metadata": {},
   "outputs": [
    {
     "data": {
      "text/plain": [
       "[1, 5, 14, 30, 55, 91, 140, 204, 285, 385]"
      ]
     },
     "execution_count": 46,
     "metadata": {},
     "output_type": "execute_result"
    }
   ],
   "source": [
    "def natural_number():\n",
    "    n = 0\n",
    "    while True:\n",
    "        n += 1\n",
    "        yield n\n",
    "s = natural_number()\n",
    "pyramid = ((n*(n+1)*(2*n+1))//6 for n in s)"
   ]
  },
  {
   "cell_type": "markdown",
   "metadata": {},
   "source": [
    "### 4."
   ]
  },
  {
   "cell_type": "code",
   "execution_count": 66,
   "metadata": {},
   "outputs": [],
   "source": [
    "u = natural_number()\n",
    "octa = ((n*(2*n**2+1))//3 for n in u)"
   ]
  },
  {
   "cell_type": "markdown",
   "metadata": {},
   "source": [
    "## 3. Map, Filter and Reduce\n",
    "### 1"
   ]
  },
  {
   "cell_type": "code",
   "execution_count": 48,
   "metadata": {},
   "outputs": [
    {
     "data": {
      "text/plain": [
       "1330"
      ]
     },
     "execution_count": 48,
     "metadata": {},
     "output_type": "execute_result"
    }
   ],
   "source": [
    "sum_of_odd_squares = sum(map(lambda x: (2*x+1)**2,[i for i in range(10)]))\n",
    "sum_of_odd_squares"
   ]
  },
  {
   "cell_type": "markdown",
   "metadata": {},
   "source": [
    "### 2."
   ]
  },
  {
   "cell_type": "code",
   "execution_count": 70,
   "metadata": {},
   "outputs": [
    {
     "data": {
      "text/plain": [
       "304250263527210"
      ]
     },
     "execution_count": 70,
     "metadata": {},
     "output_type": "execute_result"
    }
   ],
   "source": [
    "import functools\n",
    "s = primes()\n",
    "product_of_primes = functools.reduce(lambda x,y: x*y, [next(s) for _ in range(13)])\n",
    "product_of_primes"
   ]
  },
  {
   "cell_type": "markdown",
   "metadata": {},
   "source": [
    "### 3."
   ]
  },
  {
   "cell_type": "code",
   "execution_count": 73,
   "metadata": {},
   "outputs": [],
   "source": [
    "s = primes()\n",
    "squared_primes = sum(map(lambda x: x**2, [next(s) for _ in range(31)]))"
   ]
  },
  {
   "cell_type": "code",
   "execution_count": 74,
   "metadata": {},
   "outputs": [
    {
     "data": {
      "text/plain": [
       "138834"
      ]
     },
     "execution_count": 74,
     "metadata": {},
     "output_type": "execute_result"
    }
   ],
   "source": [
    "squared_primes"
   ]
  },
  {
   "cell_type": "markdown",
   "metadata": {},
   "source": [
    "### 4."
   ]
  },
  {
   "cell_type": "code",
   "execution_count": 67,
   "metadata": {},
   "outputs": [],
   "source": [
    "import itertools\n",
    "harmonics = list(itertools.accumulate(map(lambda x:1/x,range(1,21)),lambda x,y: x+y))"
   ]
  },
  {
   "cell_type": "code",
   "execution_count": 68,
   "metadata": {},
   "outputs": [
    {
     "data": {
      "text/plain": [
       "[1.0,\n",
       " 1.5,\n",
       " 1.8333333333333333,\n",
       " 2.083333333333333,\n",
       " 2.283333333333333,\n",
       " 2.4499999999999997,\n",
       " 2.5928571428571425,\n",
       " 2.7178571428571425,\n",
       " 2.8289682539682537,\n",
       " 2.9289682539682538,\n",
       " 3.0198773448773446,\n",
       " 3.103210678210678,\n",
       " 3.180133755133755,\n",
       " 3.251562326562327,\n",
       " 3.3182289932289937,\n",
       " 3.3807289932289937,\n",
       " 3.439552522640758,\n",
       " 3.4951080781963135,\n",
       " 3.547739657143682,\n",
       " 3.597739657143682]"
      ]
     },
     "execution_count": 68,
     "metadata": {},
     "output_type": "execute_result"
    }
   ],
   "source": [
    "harmonics"
   ]
  },
  {
   "cell_type": "markdown",
   "metadata": {},
   "source": [
    "### 5."
   ]
  },
  {
   "cell_type": "code",
   "execution_count": 75,
   "metadata": {},
   "outputs": [],
   "source": [
    "import functools\n",
    "u = natural_number()\n",
    "octa = ((n*(2*n**2+1))//3 for n in u) \n",
    "octa_geom = functools.reduce(lambda x,y:x*y,list(pow(next(octa),1/12) for _ in range(12)))"
   ]
  },
  {
   "cell_type": "code",
   "execution_count": 76,
   "metadata": {},
   "outputs": [
    {
     "data": {
      "text/plain": [
       "104.36220448693888"
      ]
     },
     "execution_count": 76,
     "metadata": {},
     "output_type": "execute_result"
    }
   ],
   "source": [
    "octa_geom"
   ]
  },
  {
   "cell_type": "markdown",
   "metadata": {},
   "source": [
    "## 4. Fun with Polynomials\n",
    "### 1"
   ]
  },
  {
   "cell_type": "code",
   "execution_count": 57,
   "metadata": {},
   "outputs": [],
   "source": [
    "def make_poly(coeffs):\n",
    "    def p(x):\n",
    "        y = 1\n",
    "        s = 0\n",
    "        for i in range(len(coeffs)):\n",
    "            s += y*coeffs[i]\n",
    "            y *= x\n",
    "        return s\n",
    "    return p\n",
    "        \n",
    "    "
   ]
  },
  {
   "cell_type": "markdown",
   "metadata": {},
   "source": [
    "### 2."
   ]
  },
  {
   "cell_type": "code",
   "execution_count": 77,
   "metadata": {},
   "outputs": [],
   "source": [
    "def eval_poly(coeffs,args):\n",
    "    return list(map(make_poly(coeffs),args))"
   ]
  },
  {
   "cell_type": "code",
   "execution_count": 59,
   "metadata": {},
   "outputs": [
    {
     "data": {
      "text/plain": [
       "[457, 17, 57, 86]"
      ]
     },
     "execution_count": 59,
     "metadata": {},
     "output_type": "execute_result"
    }
   ],
   "source": [
    "eval_poly([1,2,3],[12,2,4,5])"
   ]
  },
  {
   "cell_type": "code",
   "execution_count": null,
   "metadata": {},
   "outputs": [],
   "source": []
  }
 ],
 "metadata": {
  "kernelspec": {
   "display_name": "Python 3",
   "language": "python",
   "name": "python3"
  },
  "language_info": {
   "codemirror_mode": {
    "name": "ipython",
    "version": 3
   },
   "file_extension": ".py",
   "mimetype": "text/x-python",
   "name": "python",
   "nbconvert_exporter": "python",
   "pygments_lexer": "ipython3",
   "version": "3.5.4"
  }
 },
 "nbformat": 4,
 "nbformat_minor": 2
}

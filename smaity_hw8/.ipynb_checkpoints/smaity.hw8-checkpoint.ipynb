{
 "cells": [
  {
   "cell_type": "markdown",
   "metadata": {},
   "source": [
    "# Homework 8: MapReduce, Hadoop and Spark\n",
    "\n",
    "## 1 Warmup: counting words with mrjob\n",
    "### 1.1"
   ]
  },
  {
   "cell_type": "markdown",
   "metadata": {},
   "source": [
    "Look at the mr_word_count.py for the mrjob code for counting words.\n",
    "\n",
    "### 1.2 \n",
    "Code for running the code in Cavium cluster:"
   ]
  },
  {
   "cell_type": "raw",
   "metadata": {},
   "source": [
    "python mr_word_count.py -r hadoop -c /etc/mrjob.conf.stats507 hdfs:///var/stats507f19/simple.txt > simple_word_counts.txt"
   ]
  },
  {
   "cell_type": "markdown",
   "metadata": {},
   "source": [
    "The 'simple_word_counts.txt' is copied into the local directory by 'scp'."
   ]
  },
  {
   "cell_type": "markdown",
   "metadata": {},
   "source": [
    "'simple.txt' and 'simple_word_counts.txt' are included in the folder\n",
    "\n",
    "Contents of the files 'simple.txt' and 'simple_word_counts.txt' are given below:"
   ]
  },
  {
   "cell_type": "code",
   "execution_count": 19,
   "metadata": {},
   "outputs": [
    {
     "name": "stdout",
     "output_type": "stream",
     "text": [
      "Raining cats and dogs\n",
      "\n",
      "Cats eat mice, mice eat cheese\n",
      "\n",
      "Mice and cats and dogs have fleas\n",
      "\n"
     ]
    }
   ],
   "source": [
    "fhand = open(\"simple.txt\")\n",
    "for line in fhand:\n",
    "    print(line)\n",
    "fhand.close()"
   ]
  },
  {
   "cell_type": "code",
   "execution_count": 20,
   "metadata": {},
   "outputs": [
    {
     "name": "stdout",
     "output_type": "stream",
     "text": [
      "\"and\"\t3\n",
      "\n",
      "\"cats\"\t3\n",
      "\n",
      "\"cheese\"\t1\n",
      "\n",
      "\"dogs\"\t2\n",
      "\n",
      "\"eat\"\t2\n",
      "\n",
      "\"fleas\"\t1\n",
      "\n",
      "\"have\"\t1\n",
      "\n",
      "\"mice\"\t3\n",
      "\n",
      "\"raining\"\t1\n",
      "\n"
     ]
    }
   ],
   "source": [
    "fhand = open(\"simple_word_counts.txt\")\n",
    "for line in fhand:\n",
    "    print(line)\n",
    "fhand.close()"
   ]
  },
  {
   "cell_type": "markdown",
   "metadata": {},
   "source": [
    "### 1.3\n",
    "\n",
    "Code for running the code 'mr_word_count.py' on the file 'darwin.txt' in Cavium cluster:"
   ]
  },
  {
   "cell_type": "raw",
   "metadata": {},
   "source": [
    "python mr_word_count.py -r hadoop -c /etc/mrjob.conf.stats507 hdfs:///var/stats507f19/darwin.txt > darwin_word_counts.txt"
   ]
  },
  {
   "cell_type": "markdown",
   "metadata": {},
   "source": [
    "The file 'darwin_word_counts.txt' is included.\n",
    "\n",
    "### 1.4"
   ]
  },
  {
   "cell_type": "code",
   "execution_count": 21,
   "metadata": {},
   "outputs": [],
   "source": [
    "from matplotlib import pyplot as plt\n",
    "import re\n",
    "import numpy as np\n",
    "\n",
    "fhand = open(\"darwin_word_counts.txt\",'r+')\n",
    "\n",
    "word = []\n",
    "word_count = []\n",
    "for line in fhand:\n",
    "    d = re.split(r'\\s',line)\n",
    "    word.append(str(d[0]))\n",
    "    word_count.append(int(d[1]))\n",
    "word_count.sort(reverse=True)"
   ]
  },
  {
   "cell_type": "code",
   "execution_count": 22,
   "metadata": {},
   "outputs": [
    {
     "data": {
      "image/png": "[encoded data removed]",
      "text/plain": [
       "<Figure size 432x288 with 1 Axes>"
      ]
     },
     "metadata": {
      "needs_background": "light"
     },
     "output_type": "display_data"
    }
   ],
   "source": [
    "rank = np.array(range(len(word_count)))+1 ## Ranked according to ordinal ranking\n",
    "fig = plt.figure()\n",
    "ax = plt.gca()\n",
    "ax.plot(np.array(rank),word_count,'-')\n",
    "ax.set_xscale('log')\n",
    "ax.set_yscale('log')\n",
    "ax.set_xlabel('Rank (in log scale)')\n",
    "ax.set_ylabel('Word count (in log scale)')\n",
    "ax.set_title('Plot of word-frequency vs frequency rank')\n",
    "plt.savefig(\"zipf.pdf\")\n",
    "fhand.close()"
   ]
  },
  {
   "cell_type": "markdown",
   "metadata": {},
   "source": [
    "### 1.5 \n",
    "The resuling plot looks approximately like a line with negative slope in log-log scale\n",
    "\n",
    "\n",
    "## 2. Computing Sample Statistics with mrjob\n",
    "\n",
    "### 2.1"
   ]
  },
  {
   "cell_type": "markdown",
   "metadata": {},
   "source": [
    "Look at the 'mr_summary_stats.py' file for the code. I have used $n$ in the denominator to calculate variance. \n",
    "\n",
    "### 2.2\n",
    "\n",
    "Code to run mrjob script for 'populations_small.txt' in cavium: "
   ]
  },
  {
   "cell_type": "raw",
   "metadata": {},
   "source": [
    "python mr_summary_stats.py -r hadoop -c /etc/mrjob.conf.stats507 hdfs:///var/stats507f19/populations_small.txt > summary_small.txt"
   ]
  },
  {
   "cell_type": "markdown",
   "metadata": {},
   "source": [
    "Both 'populations_small.txt' and 'summary_small.txt' are included. Contents of these two files are shown below."
   ]
  },
  {
   "cell_type": "code",
   "execution_count": 23,
   "metadata": {},
   "outputs": [
    {
     "name": "stdout",
     "output_type": "stream",
     "text": [
      "1 2.0\n",
      "\n",
      "1 3.0\n",
      "\n",
      "1 1.0\n",
      "\n",
      "2 0.0\n",
      "\n",
      "2 2.0\n",
      "\n",
      "2 -2.0\n",
      "\n",
      "3 10.0\n",
      "\n",
      "3 10.0\n",
      "\n"
     ]
    }
   ],
   "source": [
    "fhand = open(\"populations_small.txt\")\n",
    "for line in fhand:\n",
    "    print(line)\n",
    "fhand.close()"
   ]
  },
  {
   "cell_type": "code",
   "execution_count": 24,
   "metadata": {},
   "outputs": [
    {
     "name": "stdout",
     "output_type": "stream",
     "text": [
      "1\t[3, 2.0, 0.666666666666667]\n",
      "\n",
      "2\t[3, 0.0, 2.6666666666666665]\n",
      "\n",
      "3\t[2, 10.0, 0.0]\n",
      "\n"
     ]
    }
   ],
   "source": [
    "fhand = open(\"summary_small.txt\")\n",
    "for line in fhand:\n",
    "    print(line)\n",
    "fhand.close()"
   ]
  },
  {
   "cell_type": "markdown",
   "metadata": {},
   "source": [
    "### 2.3\n",
    "\n",
    "Code to run mrjob script for 'populations_large.txt' in cavium: "
   ]
  },
  {
   "cell_type": "raw",
   "metadata": {},
   "source": [
    "python mr_summary_stats.py -r hadoop -c /etc/mrjob.conf.stats507 hdfs:///var/stats507f19/populations_large.txt > summary_large.txt"
   ]
  },
  {
   "cell_type": "markdown",
   "metadata": {},
   "source": [
    "### 2.4\n",
    "\n",
    "To create the 95% confidence intervals, I assume that we have independent random samples from the 12 populations. Then the confidence intervals for each populations can be obtained as: $$ \\bar X + z_{0.975}\\frac{s}{\\sqrt{n}}, $$ where $\\bar X$ is the sample mean, $s$ is the standard deviation, and $z_{0.975}$ is the 0.975-th quantile for standard normal distribution. Though $n-1$ should be used to calculate $s^2$ as denominator, I'm OK with using $n$, since the sample sizes are very large.   "
   ]
  },
  {
   "cell_type": "code",
   "execution_count": 25,
   "metadata": {},
   "outputs": [
    {
     "data": {
      "text/html": [
       "<div>\n",
       "<style scoped>\n",
       "    .dataframe tbody tr th:only-of-type {\n",
       "        vertical-align: middle;\n",
       "    }\n",
       "\n",
       "    .dataframe tbody tr th {\n",
       "        vertical-align: top;\n",
       "    }\n",
       "\n",
       "    .dataframe thead th {\n",
       "        text-align: right;\n",
       "    }\n",
       "</style>\n",
       "<table border=\"1\" class=\"dataframe\">\n",
       "  <thead>\n",
       "    <tr style=\"text-align: right;\">\n",
       "      <th></th>\n",
       "      <th>Population</th>\n",
       "      <th>Sample_size</th>\n",
       "      <th>Mean</th>\n",
       "      <th>Variance</th>\n",
       "      <th>error</th>\n",
       "    </tr>\n",
       "  </thead>\n",
       "  <tbody>\n",
       "    <tr>\n",
       "      <th>0</th>\n",
       "      <td>0</td>\n",
       "      <td>83652</td>\n",
       "      <td>7.872799</td>\n",
       "      <td>523452.131628</td>\n",
       "      <td>4.902848</td>\n",
       "    </tr>\n",
       "    <tr>\n",
       "      <th>1</th>\n",
       "      <td>1</td>\n",
       "      <td>83161</td>\n",
       "      <td>3.157122</td>\n",
       "      <td>331623.946470</td>\n",
       "      <td>3.913913</td>\n",
       "    </tr>\n",
       "    <tr>\n",
       "      <th>2</th>\n",
       "      <td>10</td>\n",
       "      <td>83468</td>\n",
       "      <td>3.200230</td>\n",
       "      <td>440146.645072</td>\n",
       "      <td>4.500770</td>\n",
       "    </tr>\n",
       "    <tr>\n",
       "      <th>3</th>\n",
       "      <td>11</td>\n",
       "      <td>83047</td>\n",
       "      <td>8.976722</td>\n",
       "      <td>289433.906815</td>\n",
       "      <td>3.658987</td>\n",
       "    </tr>\n",
       "    <tr>\n",
       "      <th>4</th>\n",
       "      <td>2</td>\n",
       "      <td>83522</td>\n",
       "      <td>9.967419</td>\n",
       "      <td>716054.186068</td>\n",
       "      <td>5.738793</td>\n",
       "    </tr>\n",
       "    <tr>\n",
       "      <th>5</th>\n",
       "      <td>3</td>\n",
       "      <td>82993</td>\n",
       "      <td>0.285956</td>\n",
       "      <td>479637.579478</td>\n",
       "      <td>4.711769</td>\n",
       "    </tr>\n",
       "    <tr>\n",
       "      <th>6</th>\n",
       "      <td>4</td>\n",
       "      <td>83331</td>\n",
       "      <td>0.813253</td>\n",
       "      <td>476523.476441</td>\n",
       "      <td>4.686914</td>\n",
       "    </tr>\n",
       "    <tr>\n",
       "      <th>7</th>\n",
       "      <td>5</td>\n",
       "      <td>83271</td>\n",
       "      <td>3.597417</td>\n",
       "      <td>551408.217586</td>\n",
       "      <td>5.043567</td>\n",
       "    </tr>\n",
       "    <tr>\n",
       "      <th>8</th>\n",
       "      <td>6</td>\n",
       "      <td>83846</td>\n",
       "      <td>14.814938</td>\n",
       "      <td>404014.989810</td>\n",
       "      <td>4.302349</td>\n",
       "    </tr>\n",
       "    <tr>\n",
       "      <th>9</th>\n",
       "      <td>7</td>\n",
       "      <td>83282</td>\n",
       "      <td>1.616250</td>\n",
       "      <td>552487.339112</td>\n",
       "      <td>5.048167</td>\n",
       "    </tr>\n",
       "    <tr>\n",
       "      <th>10</th>\n",
       "      <td>8</td>\n",
       "      <td>83183</td>\n",
       "      <td>3.391652</td>\n",
       "      <td>522507.379149</td>\n",
       "      <td>4.912211</td>\n",
       "    </tr>\n",
       "    <tr>\n",
       "      <th>11</th>\n",
       "      <td>9</td>\n",
       "      <td>83244</td>\n",
       "      <td>3.394762</td>\n",
       "      <td>671392.829880</td>\n",
       "      <td>5.566215</td>\n",
       "    </tr>\n",
       "  </tbody>\n",
       "</table>\n",
       "</div>"
      ],
      "text/plain": [
       "    Population  Sample_size       Mean       Variance     error\n",
       "0            0        83652   7.872799  523452.131628  4.902848\n",
       "1            1        83161   3.157122  331623.946470  3.913913\n",
       "2           10        83468   3.200230  440146.645072  4.500770\n",
       "3           11        83047   8.976722  289433.906815  3.658987\n",
       "4            2        83522   9.967419  716054.186068  5.738793\n",
       "5            3        82993   0.285956  479637.579478  4.711769\n",
       "6            4        83331   0.813253  476523.476441  4.686914\n",
       "7            5        83271   3.597417  551408.217586  5.043567\n",
       "8            6        83846  14.814938  404014.989810  4.302349\n",
       "9            7        83282   1.616250  552487.339112  5.048167\n",
       "10           8        83183   3.391652  522507.379149  4.912211\n",
       "11           9        83244   3.394762  671392.829880  5.566215"
      ]
     },
     "execution_count": 25,
     "metadata": {},
     "output_type": "execute_result"
    }
   ],
   "source": [
    "import matplotlib.pyplot as plt\n",
    "import numpy as np\n",
    "import pandas as pd\n",
    "import scipy.stats\n",
    "fhand = open(\"summary_large.txt\")\n",
    "import re\n",
    "summary = []\n",
    "\n",
    "\n",
    "for line in fhand:\n",
    "    s = re.findall(r'\\d+\\.\\d+|\\d+',line)\n",
    "    s = [float(i) for i in s]\n",
    "    summary.append(s)\n",
    "summary = pd.DataFrame(summary, columns = ['Population','Sample_size', 'Mean','Variance'])\n",
    "summary['error'] = scipy.stats.norm.ppf(0.975)*np.sqrt(summary['Variance']/summary['Sample_size']) \n",
    "## Assuming the data are from normal distributions\n",
    "summary.astype({'Population':'int32','Sample_size':'int64'})"
   ]
  },
  {
   "cell_type": "code",
   "execution_count": 26,
   "metadata": {},
   "outputs": [
    {
     "data": {
      "image/png": "[encoded data removed]",
      "text/plain": [
       "<Figure size 432x288 with 1 Axes>"
      ]
     },
     "metadata": {
      "needs_background": "light"
     },
     "output_type": "display_data"
    }
   ],
   "source": [
    "plt.errorbar(summary['Population'],summary['Mean'], yerr=summary['error'], marker='o', capsize=5, capthick=1, ecolor='black', ls = '')\n",
    "plt.title('95% confidence intervals for 12 populations')\n",
    "plt.xlabel('Populations (indexed as 0-11)')\n",
    "plt.ylabel('95% CI')\n",
    "plt.savefig('populations.pdf')\n",
    "fhand.close()"
   ]
  },
  {
   "cell_type": "markdown",
   "metadata": {},
   "source": [
    "## 3. Graph Processing: Counting Triangles with PySpark\n",
    "\n",
    "### 3.1"
   ]
  },
  {
   "cell_type": "markdown",
   "metadata": {},
   "source": [
    "The code for getting all the triangles in a graph is written in 'ps_fof.py'. The triangles are obtained by counting the number of occurances of an ordered two paths. If we form ordered two paths from the neighborhoods of a node, i.e, (1,[2,3,4]) > (1,2,3), (1,2,4), (1,3,4), then more than one occurance of these two paths will imply the presence of a triangle with these three nodes. The algorithm uses this fact. \n",
    "\n",
    "### 3.2\n",
    "\n",
    "The script 'ps_fof.py' is tested on the HDFS directory 'hdfs:/var/stats507f19/fof/friends.simple'. The code is:"
   ]
  },
  {
   "cell_type": "raw",
   "metadata": {},
   "source": [
    "spark-submit --master yarn --queue stats507 ps_fof.py hdfs:/var/stats507f19/fof/friends.simple triangle_small"
   ]
  },
  {
   "cell_type": "markdown",
   "metadata": {},
   "source": [
    "This saves the output in 'triangle_small' folder in HDFS. To save the output in local directory:"
   ]
  },
  {
   "cell_type": "raw",
   "metadata": {},
   "source": [
    "hdfs dfs -cat triangle_small/* > ./small_triangle_list.txt"
   ]
  },
  {
   "cell_type": "markdown",
   "metadata": {},
   "source": [
    "The 'small_triangle_list.txt' file in included in submission and the contents are shown below:"
   ]
  },
  {
   "cell_type": "code",
   "execution_count": 27,
   "metadata": {},
   "outputs": [
    {
     "name": "stdout",
     "output_type": "stream",
     "text": [
      "200 300 400\n",
      "\n",
      "100 300 400\n",
      "\n",
      "100 200 300\n",
      "\n",
      "100 200 400\n",
      "\n"
     ]
    }
   ],
   "source": [
    "fhand = open(\"small_triangle_list.txt\")\n",
    "for line in fhand:\n",
    "    print(line)\n",
    "fhand.close()"
   ]
  },
  {
   "cell_type": "markdown",
   "metadata": {},
   "source": [
    "There are 4 triangles in the small graph. \n",
    "\n",
    "### 3.3 \n",
    "\n",
    "The script 'ps_fof.py' is tested on the HDFS directory 'hdfs:/var/stats507f19/fof/friends1000'. The code is:"
   ]
  },
  {
   "cell_type": "raw",
   "metadata": {},
   "source": [
    "spark-submit --master yarn --num-executors 30 --executor-cores 4 --queue stats507 ps_fof.py hdfs:/var/stats507f19/fof/friends1000 triangle_large"
   ]
  },
  {
   "cell_type": "markdown",
   "metadata": {},
   "source": [
    "This saves the output in 'triangle_small'folder in HDFS. To save the output in local directory:"
   ]
  },
  {
   "cell_type": "raw",
   "metadata": {},
   "source": [
    "hdfs dfs -cat triangle_large/* > ./big_triangle_list.txt"
   ]
  },
  {
   "cell_type": "markdown",
   "metadata": {},
   "source": [
    "The 'big_triangle_list.txt' file is included in submission."
   ]
  }
 ],
 "metadata": {
  "kernelspec": {
   "display_name": "Python 3",
   "language": "python",
   "name": "python3"
  },
  "language_info": {
   "codemirror_mode": {
    "name": "ipython",
    "version": 3
   },
   "file_extension": ".py",
   "mimetype": "text/x-python",
   "name": "python",
   "nbconvert_exporter": "python",
   "pygments_lexer": "ipython3",
   "version": "3.7.5"
  }
 },
 "nbformat": 4,
 "nbformat_minor": 2
}

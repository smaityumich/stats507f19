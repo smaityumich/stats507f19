{
 "cells": [
  {
   "cell_type": "markdown",
   "metadata": {},
   "source": [
    "# Homework 9: Algorithm Design and Analysis\n",
    "\n",
    "\n",
    "\n",
    "## 1 Implementing a Basic Data Structure\n",
    "\n",
    "### 1.1 Class 'Trie'"
   ]
  },
  {
   "cell_type": "code",
   "execution_count": 17,
   "metadata": {},
   "outputs": [],
   "source": [
    "class Trie:\n",
    "    '''class for Trie'''\n",
    "    \n",
    "    def __init__(self):\n",
    "        self.root = dict() ## Initialize an empty dictionary\n",
    "        \n",
    "    def add(self, s):\n",
    "        e = self.root\n",
    "        for c in s:\n",
    "            if c not in e:\n",
    "                e[c] = dict() ## If a particular letter is not a dictionary key, then add that key, whose value is an empty dictionary\n",
    "            e = e[c] ## go to that dictionary\n",
    "        e[''] = None ## for the dictionary, which is a value for the last letter of the word, add a key '' with value None \n",
    "    ## This signifies the parent dictionary to be a node\n",
    "    \n",
    "    \n",
    "    def contains(self, s):\n",
    "        e = self.root\n",
    "        check_char = True\n",
    "        check_node = True\n",
    "        for c in s:  ## To ckeck all the letters in a word is in that dictionary, as in Trie representation\n",
    "            if c not in e:\n",
    "                check_char = False\n",
    "                break\n",
    "            else:\n",
    "                e = e[c]  \n",
    "        if check_char == True: ## Check if the dictionary corresponding to the last letter is a leaf\n",
    "            check_node = '' in e\n",
    "        return check_char and check_node\n",
    "        \n",
    "    \n",
    "    def __repr__(self):\n",
    "        return(str(self.root))\n",
    "        \n",
    "        "
   ]
  },
  {
   "cell_type": "markdown",
   "metadata": {},
   "source": [
    "### 1.2 Function 'wordlist2trie'"
   ]
  },
  {
   "cell_type": "code",
   "execution_count": 18,
   "metadata": {},
   "outputs": [],
   "source": [
    "def wordlist2trie(list_str):\n",
    "    '''Included a list of string in a new Trie object; Return Trie object'''\n",
    "    if type(list_str) is not list:\n",
    "        raise TypeError(\"Input is not list\")\n",
    "    trie_word = Trie()\n",
    "    for string in list_str:\n",
    "        if type(string) is not str:\n",
    "            raise ValueError(\"One of the entry is not string\")\n",
    "        trie_word.add(string)\n",
    "    return trie_word"
   ]
  },
  {
   "cell_type": "markdown",
   "metadata": {},
   "source": [
    "### 1.3 Word list in 'words.txt'"
   ]
  },
  {
   "cell_type": "code",
   "execution_count": 19,
   "metadata": {},
   "outputs": [],
   "source": [
    "import re\n",
    "fhand = open(\"words.txt\")\n",
    "word_list = []\n",
    "for line in fhand:\n",
    "    line_words = re.findall(r'\\w+',line)\n",
    "    for word in line_words:\n",
    "        word_list.append(word)"
   ]
  },
  {
   "cell_type": "code",
   "execution_count": 20,
   "metadata": {},
   "outputs": [],
   "source": [
    "big_trie = wordlist2trie(word_list)\n",
    "#print(repr(big_trie))"
   ]
  },
  {
   "cell_type": "markdown",
   "metadata": {},
   "source": [
    "Test with ['cat','dog','do','goat']"
   ]
  },
  {
   "cell_type": "code",
   "execution_count": 21,
   "metadata": {},
   "outputs": [
    {
     "name": "stdout",
     "output_type": "stream",
     "text": [
      "{'c': {'a': {'t': {'': None}}}, 'd': {'o': {'g': {'': None}, '': None}}, 'g': {'o': {'a': {'t': {'': None}}}}}\n"
     ]
    }
   ],
   "source": [
    "trie = wordlist2trie(['cat','dog','do','goat'])\n",
    "print(repr(trie))"
   ]
  },
  {
   "cell_type": "markdown",
   "metadata": {},
   "source": [
    "\n",
    "\n",
    "## Compairing Sorting Algorithms\n",
    "\n",
    "### 2.1\n",
    "\n",
    "#### Merge Sort"
   ]
  },
  {
   "cell_type": "code",
   "execution_count": 22,
   "metadata": {},
   "outputs": [],
   "source": [
    "import math\n",
    "def mergesort(m):\n",
    "    try:\n",
    "        m = list(m)\n",
    "    except:\n",
    "        raise TypeError(\"Input can't be converted into list\")\n",
    "    \n",
    "    if len(m) < 2:\n",
    "        return m\n",
    "    \n",
    "    else:\n",
    "        i = math.floor(len(m)/2)\n",
    "        left = mergesort(m[:i])\n",
    "        right = mergesort(m[i:])\n",
    "        \n",
    "        return merge(left, right)\n",
    "    \n",
    "def merge(left, right):\n",
    "    result = []\n",
    "    while len(left)> 0 and len(right) > 0: \n",
    "        x = left[0]\n",
    "        y = right[0]\n",
    "        if x<y:\n",
    "            result.append(x)\n",
    "            left.remove(x)\n",
    "        else:\n",
    "            result.append(y)\n",
    "            right.remove(y)\n",
    "    if  len(left) == 0 and len(right) > 0:\n",
    "        for s in right:\n",
    "            result.append(s)\n",
    "    elif  len(right) == 0 and len(left) > 0:\n",
    "        for s in left:\n",
    "            result.append(s)\n",
    "    \n",
    "    return result\n",
    "        "
   ]
  },
  {
   "cell_type": "markdown",
   "metadata": {},
   "source": [
    "#### Quick Sort"
   ]
  },
  {
   "cell_type": "code",
   "execution_count": 23,
   "metadata": {},
   "outputs": [],
   "source": [
    "def QuickSort(m, low, high):\n",
    "    if low < high:\n",
    "        p = partition(m,low,high)\n",
    "        m = QuickSort(m,low,p-1)\n",
    "        m = QuickSort(m, p+1, high)\n",
    "    return m\n",
    "\n",
    "def partition(m, low, high):\n",
    "    i = low-1\n",
    "    pivot = m[high]\n",
    "    \n",
    "    for j in range(low, high):\n",
    "        if m[j] <= pivot:\n",
    "            i = i+1\n",
    "            m[i], m[j] = m[j], m[i]\n",
    "            \n",
    "    m[i+1], m[high] = m[high], m[i+1]\n",
    "    \n",
    "    return i+1\n",
    "\n",
    "def quicksort(m):\n",
    "    try:\n",
    "        m = list(m)\n",
    "    except:\n",
    "        raise TypeError(\"Input can't be converted into a list\")\n",
    "    return QuickSort(m,0,len(m)-1)"
   ]
  },
  {
   "cell_type": "markdown",
   "metadata": {},
   "source": [
    "#### Bubble Sort"
   ]
  },
  {
   "cell_type": "code",
   "execution_count": 24,
   "metadata": {},
   "outputs": [],
   "source": [
    "def bubblesort(m):\n",
    "    try:\n",
    "        m = list(m)\n",
    "    except:\n",
    "        raise TypeError(\"Input can't be converted into a list\")\n",
    "        \n",
    "    n = len(m)\n",
    "    swap = True\n",
    "    while swap:\n",
    "        swap = False\n",
    "        for i in range(1,n):\n",
    "            if m[i-1]>m[i]:\n",
    "                m[i], m[i-1] = m[i-1], m[i]\n",
    "                swap = True\n",
    "        n = n - 1\n",
    "    return m\n",
    "        "
   ]
  },
  {
   "cell_type": "markdown",
   "metadata": {},
   "source": [
    "### 2.2 "
   ]
  },
  {
   "cell_type": "code",
   "execution_count": 25,
   "metadata": {},
   "outputs": [],
   "source": [
    "def run_timing_expt(m):\n",
    "    ts = time.time()\n",
    "    mergesort(m)\n",
    "    t_merge = time.time() -ts\n",
    "    \n",
    "    ts = time.time()\n",
    "    quicksort(m)\n",
    "    t_quick = time.time() -ts\n",
    "    \n",
    "    ts = time.time()\n",
    "    bubblesort(m)\n",
    "    t_bubble = time.time() -ts\n",
    "    \n",
    "    return t_merge, t_quick, t_bubble"
   ]
  },
  {
   "cell_type": "markdown",
   "metadata": {},
   "source": [
    "### 2.3"
   ]
  },
  {
   "cell_type": "code",
   "execution_count": 26,
   "metadata": {},
   "outputs": [],
   "source": [
    "import numpy as np\n",
    "import time\n",
    "time_mean = []\n",
    "time_std = []\n",
    "\n",
    "\n",
    "n_list = [500, 1000, 1500, 2000, 2500]\n",
    "\n",
    "for n in n_list:\n",
    "    time_n = []\n",
    "    for i in range(20):\n",
    "        time_n.append(run_timing_expt(range(n)))\n",
    "    time_n = np.array(time_n)\n",
    "    time_mean.append(np.mean(time_n,axis = 0))\n",
    "    time_std.append(np.std(time_n,axis = 0))\n",
    "time_std = time_std/np.sqrt(20)"
   ]
  },
  {
   "cell_type": "code",
   "execution_count": 27,
   "metadata": {},
   "outputs": [
    {
     "data": {
      "image/png": "[encoded data removed]",
      "text/plain": [
       "<Figure size 432x288 with 1 Axes>"
      ]
     },
     "metadata": {
      "needs_background": "light"
     },
     "output_type": "display_data"
    }
   ],
   "source": [
    "from matplotlib import pyplot as plt\n",
    "\n",
    "\n",
    "p1 = plt.errorbar(n_list, [s[0] for s in time_mean], yerr = [2*s[0] for s in time_std], marker='o', mfc='black', capsize=5, capthick=1, ecolor='black', ls = '--', color = \"black\")\n",
    "p2 = plt.errorbar(n_list, [s[1] for s in time_mean], yerr = [2*s[1] for s in time_std], marker='o', mfc='blue', capsize=5, capthick=1, ecolor='blue', ls = '--', color = \"blue\")\n",
    "p3 = plt.errorbar(n_list, [s[2] for s in time_mean], yerr = [2*s[2] for s in time_std], marker='o', mfc='red', capsize=5, capthick=1, ecolor='red', ls = '--', color = \"red\")\n",
    "\n",
    "plt.legend((p1[0],p2[0],p3[0]),('mergesort','quicksort','bubblesort'))\n",
    "\n",
    "plt.ylabel('Time (in s)')\n",
    "plt.xlabel('$n$')\n",
    "plt.xticks(n_list, n_list)\n",
    "\n",
    "plt.title('Runtime plot for three sorting algorithms with $[0,...,n-1]$')\n",
    "\n",
    "plt.savefig('ascending.pdf')\n",
    "plt.show()"
   ]
  },
  {
   "cell_type": "markdown",
   "metadata": {},
   "source": [
    "If the array is already sorted, then calling quicksort on that array would result to determine the pivot at the very end of an array: a sorted array of length $n$ will be broken as two array of length $n-1$ and length $1$. Hence, the QuickSort function will be called $n$ times recursively. This causes to lead us to have recurrsion depth error. Consider a tree representation of the recurrsive call. When a system operates on a particular node of that tree, the system has to store all the function calls for the parent nodes. And for quicksort algorithm, if we have sorted array, we can have a node with depth $O(n).$ This blows up as $n$ increases. In ideal case, the depth is $O(\\log n)$"
   ]
  },
  {
   "cell_type": "markdown",
   "metadata": {},
   "source": [
    "### 2.4\n",
    "\n",
    "\n",
    "The 2 standard error errorbar for mean obtained as $\\bar X \\mp 2\\frac{s_X}{\\sqrt{n}}.$ Here, $n = 20.$\n"
   ]
  },
  {
   "cell_type": "code",
   "execution_count": 28,
   "metadata": {},
   "outputs": [
    {
     "data": {
      "image/png": "[encoded data removed]",
      "text/plain": [
       "<Figure size 432x288 with 1 Axes>"
      ]
     },
     "metadata": {
      "needs_background": "light"
     },
     "output_type": "display_data"
    }
   ],
   "source": [
    "time_mean = []\n",
    "time_std = []\n",
    "\n",
    "\n",
    "n_list = [500, 1000, 1500, 2000, 2500]\n",
    "\n",
    "for n in n_list:\n",
    "    time_n = []\n",
    "    m = sorted(list(range(n)),reverse=True)\n",
    "    for i in range(20):\n",
    "        time_n.append(run_timing_expt(m))\n",
    "    time_n = np.array(time_n)\n",
    "    time_mean.append(np.mean(time_n,axis = 0))\n",
    "    time_std.append(np.std(time_n,axis = 0))\n",
    "time_std = time_std/np.sqrt(20)\n",
    "    \n",
    "p1 = plt.errorbar(n_list, [s[0] for s in time_mean], yerr = [2*s[0] for s in time_std], marker='o', mfc='black', capsize=5, capthick=1, ecolor='black', ls = '--', color = 'black')\n",
    "p2 = plt.errorbar(n_list, [s[1] for s in time_mean], yerr = [2*s[1] for s in time_std], marker='o', mfc='blue', capsize=5, capthick=1, ecolor='blue', ls = '--', color = 'blue')\n",
    "p3 = plt.errorbar(n_list, [s[2] for s in time_mean], yerr = [2*s[2] for s in time_std], marker='o', mfc='red', capsize=5, capthick=1, ecolor='red', ls = '--', color = \"red\")\n",
    "\n",
    "plt.legend((p1[0],p2[0],p3[0]),('mergesort','quicksort','bubblesort'))\n",
    "\n",
    "plt.ylabel('Time (in s)')\n",
    "plt.xlabel('$n$')\n",
    "plt.xticks(n_list, n_list)\n",
    "\n",
    "plt.title('Runtime plot for three sorting algorithms for $[n-1,...,0]$')\n",
    "\n",
    "plt.savefig('descending.pdf')\n",
    "plt.show()"
   ]
  },
  {
   "cell_type": "markdown",
   "metadata": {},
   "source": [
    "### 2.5"
   ]
  },
  {
   "cell_type": "code",
   "execution_count": 29,
   "metadata": {},
   "outputs": [
    {
     "data": {
      "image/png": "[encoded data removed]",
      "text/plain": [
       "<Figure size 432x288 with 1 Axes>"
      ]
     },
     "metadata": {
      "needs_background": "light"
     },
     "output_type": "display_data"
    }
   ],
   "source": [
    "time_mean = []\n",
    "time_std = []\n",
    "\n",
    "\n",
    "n_list = [500, 1000, 1500, 2000, 2500]\n",
    "\n",
    "for n in n_list:\n",
    "    time_n = []\n",
    "    m = [np.random.random() for _ in range(n)]\n",
    "    for i in range(20):\n",
    "        time_n.append(run_timing_expt(m))\n",
    "    time_n = np.array(time_n)\n",
    "    time_mean.append(np.mean(time_n,axis = 0))\n",
    "    time_std.append(np.std(time_n,axis = 0))\n",
    "time_std = time_std/np.sqrt(20)\n",
    "    \n",
    "p1 = plt.errorbar(n_list, [s[0] for s in time_mean], yerr = [2*s[0] for s in time_std], marker='o', mfc='black', capsize=5, capthick=1, ecolor='black', ls = '--', color = 'black')\n",
    "p2 = plt.errorbar(n_list, [s[1] for s in time_mean], yerr = [2*s[1] for s in time_std], marker='o', mfc='blue', capsize=5, capthick=1, ecolor='blue', ls = '--', color = 'blue')\n",
    "p3 = plt.errorbar(n_list, [s[2] for s in time_mean], yerr = [2*s[2] for s in time_std], marker='o', mfc='red', capsize=5, capthick=1, ecolor='red', ls = '--', color = 'red')\n",
    "\n",
    "plt.legend((p1[0],p2[0],p3[0]),('mergesort','quicksort','bubblesort'))\n",
    "\n",
    "plt.ylabel('Time (in s)')\n",
    "plt.xlabel('$n$')\n",
    "plt.xticks(n_list, n_list)\n",
    "\n",
    "plt.title('Runtime plot for three sorting algorithms for $X\\sim (U[0,1])^{\\otimes n}$')\n",
    "\n",
    "plt.savefig('random.pdf')\n",
    "plt.show()"
   ]
  },
  {
   "cell_type": "markdown",
   "metadata": {},
   "source": [
    "Only plotting mergesort and quicksort"
   ]
  },
  {
   "cell_type": "code",
   "execution_count": 30,
   "metadata": {},
   "outputs": [
    {
     "data": {
      "image/png": "[encoded data removed]",
      "text/plain": [
       "<Figure size 432x288 with 1 Axes>"
      ]
     },
     "metadata": {
      "needs_background": "light"
     },
     "output_type": "display_data"
    }
   ],
   "source": [
    "p1 = plt.errorbar(n_list, [s[0] for s in time_mean], yerr = [2*s[0] for s in time_std], marker='o', mfc='black', capsize=5, capthick=1, ecolor='black', ls = '--', color = 'black')\n",
    "p2 = plt.errorbar(n_list, [s[1] for s in time_mean], yerr = [2*s[1] for s in time_std], marker='o', mfc='blue', capsize=5, capthick=1, ecolor='blue', ls = '--', color = 'blue')\n",
    "\n",
    "plt.legend((p1[0],p2[0]),('mergesort','quicksort'))\n",
    "\n",
    "plt.ylabel('Time (in s)')\n",
    "plt.xlabel('$n$')\n",
    "plt.xticks(n_list, n_list)\n",
    "\n",
    "plt.title('Runtime plot for two sorting algorithms for $X\\sim (U[0,1])^{\\otimes n}$')\n",
    "plt.show()"
   ]
  },
  {
   "cell_type": "code",
   "execution_count": null,
   "metadata": {},
   "outputs": [],
   "source": []
  }
 ],
 "metadata": {
  "kernelspec": {
   "display_name": "Python 3",
   "language": "python",
   "name": "python3"
  },
  "language_info": {
   "codemirror_mode": {
    "name": "ipython",
    "version": 3
   },
   "file_extension": ".py",
   "mimetype": "text/x-python",
   "name": "python",
   "nbconvert_exporter": "python",
   "pygments_lexer": "ipython3",
   "version": "3.7.4"
  }
 },
 "nbformat": 4,
 "nbformat_minor": 2
}
